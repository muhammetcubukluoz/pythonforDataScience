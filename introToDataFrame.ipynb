{
 "cells": [
  {
   "cell_type": "code",
   "id": "initial_id",
   "metadata": {
    "collapsed": true,
    "ExecuteTime": {
     "end_time": "2025-09-06T11:46:27.075085Z",
     "start_time": "2025-09-06T11:46:27.072280Z"
    }
   },
   "source": [
    "import pandas as pd\n",
    "import numpy as np"
   ],
   "outputs": [],
   "execution_count": 3
  },
  {
   "metadata": {
    "ExecuteTime": {
     "end_time": "2025-09-06T11:46:41.616149Z",
     "start_time": "2025-09-06T11:46:41.609627Z"
    }
   },
   "cell_type": "code",
   "source": "data = np.random.randn(4,3)",
   "id": "f575256e83a9f645",
   "outputs": [],
   "execution_count": 4
  },
  {
   "metadata": {
    "ExecuteTime": {
     "end_time": "2025-09-06T11:47:35.281399Z",
     "start_time": "2025-09-06T11:47:35.275843Z"
    }
   },
   "cell_type": "code",
   "source": "print(data)",
   "id": "cade03e7bbeb7da1",
   "outputs": [
    {
     "name": "stdout",
     "output_type": "stream",
     "text": [
      "[[-0.32872683  0.41948725 -0.14549809]\n",
      " [ 1.33959372  1.06333002 -0.05195317]\n",
      " [ 0.34380155  0.88480483 -0.42843897]\n",
      " [-1.66209332  0.34511278 -0.22851682]]\n"
     ]
    }
   ],
   "execution_count": 8
  },
  {
   "metadata": {
    "ExecuteTime": {
     "end_time": "2025-09-06T11:47:11.762355Z",
     "start_time": "2025-09-06T11:47:11.755883Z"
    }
   },
   "cell_type": "code",
   "source": "data_frame = pd.DataFrame(data)",
   "id": "93149e71486f3b08",
   "outputs": [],
   "execution_count": 6
  },
  {
   "metadata": {
    "ExecuteTime": {
     "end_time": "2025-09-06T11:47:26.462933Z",
     "start_time": "2025-09-06T11:47:26.454362Z"
    }
   },
   "cell_type": "code",
   "source": "data_frame",
   "id": "e7c9146e41b2aba4",
   "outputs": [
    {
     "data": {
      "text/plain": [
       "          0         1         2\n",
       "0 -0.328727  0.419487 -0.145498\n",
       "1  1.339594  1.063330 -0.051953\n",
       "2  0.343802  0.884805 -0.428439\n",
       "3 -1.662093  0.345113 -0.228517"
      ],
      "text/html": [
       "<div>\n",
       "<style scoped>\n",
       "    .dataframe tbody tr th:only-of-type {\n",
       "        vertical-align: middle;\n",
       "    }\n",
       "\n",
       "    .dataframe tbody tr th {\n",
       "        vertical-align: top;\n",
       "    }\n",
       "\n",
       "    .dataframe thead th {\n",
       "        text-align: right;\n",
       "    }\n",
       "</style>\n",
       "<table border=\"1\" class=\"dataframe\">\n",
       "  <thead>\n",
       "    <tr style=\"text-align: right;\">\n",
       "      <th></th>\n",
       "      <th>0</th>\n",
       "      <th>1</th>\n",
       "      <th>2</th>\n",
       "    </tr>\n",
       "  </thead>\n",
       "  <tbody>\n",
       "    <tr>\n",
       "      <th>0</th>\n",
       "      <td>-0.328727</td>\n",
       "      <td>0.419487</td>\n",
       "      <td>-0.145498</td>\n",
       "    </tr>\n",
       "    <tr>\n",
       "      <th>1</th>\n",
       "      <td>1.339594</td>\n",
       "      <td>1.063330</td>\n",
       "      <td>-0.051953</td>\n",
       "    </tr>\n",
       "    <tr>\n",
       "      <th>2</th>\n",
       "      <td>0.343802</td>\n",
       "      <td>0.884805</td>\n",
       "      <td>-0.428439</td>\n",
       "    </tr>\n",
       "    <tr>\n",
       "      <th>3</th>\n",
       "      <td>-1.662093</td>\n",
       "      <td>0.345113</td>\n",
       "      <td>-0.228517</td>\n",
       "    </tr>\n",
       "  </tbody>\n",
       "</table>\n",
       "</div>"
      ]
     },
     "execution_count": 7,
     "metadata": {},
     "output_type": "execute_result"
    }
   ],
   "execution_count": 7
  },
  {
   "metadata": {
    "ExecuteTime": {
     "end_time": "2025-09-06T11:47:43.686395Z",
     "start_time": "2025-09-06T11:47:43.680162Z"
    }
   },
   "cell_type": "code",
   "source": "type(data_frame)",
   "id": "7d6f3884fb07f637",
   "outputs": [
    {
     "data": {
      "text/plain": [
       "pandas.core.frame.DataFrame"
      ]
     },
     "execution_count": 9,
     "metadata": {},
     "output_type": "execute_result"
    }
   ],
   "execution_count": 9
  },
  {
   "metadata": {
    "ExecuteTime": {
     "end_time": "2025-09-06T11:47:58.997865Z",
     "start_time": "2025-09-06T11:47:58.990450Z"
    }
   },
   "cell_type": "code",
   "source": "type(data_frame[0])",
   "id": "6b3a1731caedd865",
   "outputs": [
    {
     "data": {
      "text/plain": [
       "pandas.core.series.Series"
      ]
     },
     "execution_count": 11,
     "metadata": {},
     "output_type": "execute_result"
    }
   ],
   "execution_count": 11
  },
  {
   "metadata": {
    "ExecuteTime": {
     "end_time": "2025-09-06T11:49:34.333896Z",
     "start_time": "2025-09-06T11:49:34.329274Z"
    }
   },
   "cell_type": "code",
   "source": "new_df = pd.DataFrame(data, index = [\"Mami\", \"Zeynep\", \"Atlas\", \"Ali\"], columns= [\"Salary\", \"Age\", \"Seniority\"])",
   "id": "c7c6e9275a424225",
   "outputs": [],
   "execution_count": 12
  },
  {
   "metadata": {
    "ExecuteTime": {
     "end_time": "2025-09-06T11:49:37.166187Z",
     "start_time": "2025-09-06T11:49:37.155995Z"
    }
   },
   "cell_type": "code",
   "source": "new_df",
   "id": "4725db94d5eb39e8",
   "outputs": [
    {
     "data": {
      "text/plain": [
       "          Salary       Age  Seniority\n",
       "Mami   -0.328727  0.419487  -0.145498\n",
       "Zeynep  1.339594  1.063330  -0.051953\n",
       "Atlas   0.343802  0.884805  -0.428439\n",
       "Ali    -1.662093  0.345113  -0.228517"
      ],
      "text/html": [
       "<div>\n",
       "<style scoped>\n",
       "    .dataframe tbody tr th:only-of-type {\n",
       "        vertical-align: middle;\n",
       "    }\n",
       "\n",
       "    .dataframe tbody tr th {\n",
       "        vertical-align: top;\n",
       "    }\n",
       "\n",
       "    .dataframe thead th {\n",
       "        text-align: right;\n",
       "    }\n",
       "</style>\n",
       "<table border=\"1\" class=\"dataframe\">\n",
       "  <thead>\n",
       "    <tr style=\"text-align: right;\">\n",
       "      <th></th>\n",
       "      <th>Salary</th>\n",
       "      <th>Age</th>\n",
       "      <th>Seniority</th>\n",
       "    </tr>\n",
       "  </thead>\n",
       "  <tbody>\n",
       "    <tr>\n",
       "      <th>Mami</th>\n",
       "      <td>-0.328727</td>\n",
       "      <td>0.419487</td>\n",
       "      <td>-0.145498</td>\n",
       "    </tr>\n",
       "    <tr>\n",
       "      <th>Zeynep</th>\n",
       "      <td>1.339594</td>\n",
       "      <td>1.063330</td>\n",
       "      <td>-0.051953</td>\n",
       "    </tr>\n",
       "    <tr>\n",
       "      <th>Atlas</th>\n",
       "      <td>0.343802</td>\n",
       "      <td>0.884805</td>\n",
       "      <td>-0.428439</td>\n",
       "    </tr>\n",
       "    <tr>\n",
       "      <th>Ali</th>\n",
       "      <td>-1.662093</td>\n",
       "      <td>0.345113</td>\n",
       "      <td>-0.228517</td>\n",
       "    </tr>\n",
       "  </tbody>\n",
       "</table>\n",
       "</div>"
      ]
     },
     "execution_count": 13,
     "metadata": {},
     "output_type": "execute_result"
    }
   ],
   "execution_count": 13
  },
  {
   "metadata": {
    "ExecuteTime": {
     "end_time": "2025-09-06T11:49:53.620598Z",
     "start_time": "2025-09-06T11:49:53.613113Z"
    }
   },
   "cell_type": "code",
   "source": "new_df[\"Age\"]",
   "id": "9ffbdfc0e90ba650",
   "outputs": [
    {
     "data": {
      "text/plain": [
       "Mami      0.419487\n",
       "Zeynep    1.063330\n",
       "Atlas     0.884805\n",
       "Ali       0.345113\n",
       "Name: Age, dtype: float64"
      ]
     },
     "execution_count": 14,
     "metadata": {},
     "output_type": "execute_result"
    }
   ],
   "execution_count": 14
  },
  {
   "metadata": {
    "ExecuteTime": {
     "end_time": "2025-09-06T11:50:25.861169Z",
     "start_time": "2025-09-06T11:50:25.366932Z"
    }
   },
   "cell_type": "code",
   "source": "new_df[[\"Salary\",\"Age\"]]",
   "id": "b490bc3ae7c15e6b",
   "outputs": [
    {
     "data": {
      "text/plain": [
       "          Salary       Age\n",
       "Mami   -0.328727  0.419487\n",
       "Zeynep  1.339594  1.063330\n",
       "Atlas   0.343802  0.884805\n",
       "Ali    -1.662093  0.345113"
      ],
      "text/html": [
       "<div>\n",
       "<style scoped>\n",
       "    .dataframe tbody tr th:only-of-type {\n",
       "        vertical-align: middle;\n",
       "    }\n",
       "\n",
       "    .dataframe tbody tr th {\n",
       "        vertical-align: top;\n",
       "    }\n",
       "\n",
       "    .dataframe thead th {\n",
       "        text-align: right;\n",
       "    }\n",
       "</style>\n",
       "<table border=\"1\" class=\"dataframe\">\n",
       "  <thead>\n",
       "    <tr style=\"text-align: right;\">\n",
       "      <th></th>\n",
       "      <th>Salary</th>\n",
       "      <th>Age</th>\n",
       "    </tr>\n",
       "  </thead>\n",
       "  <tbody>\n",
       "    <tr>\n",
       "      <th>Mami</th>\n",
       "      <td>-0.328727</td>\n",
       "      <td>0.419487</td>\n",
       "    </tr>\n",
       "    <tr>\n",
       "      <th>Zeynep</th>\n",
       "      <td>1.339594</td>\n",
       "      <td>1.063330</td>\n",
       "    </tr>\n",
       "    <tr>\n",
       "      <th>Atlas</th>\n",
       "      <td>0.343802</td>\n",
       "      <td>0.884805</td>\n",
       "    </tr>\n",
       "    <tr>\n",
       "      <th>Ali</th>\n",
       "      <td>-1.662093</td>\n",
       "      <td>0.345113</td>\n",
       "    </tr>\n",
       "  </tbody>\n",
       "</table>\n",
       "</div>"
      ]
     },
     "execution_count": 15,
     "metadata": {},
     "output_type": "execute_result"
    }
   ],
   "execution_count": 15
  },
  {
   "metadata": {
    "ExecuteTime": {
     "end_time": "2025-09-06T11:50:49.793970Z",
     "start_time": "2025-09-06T11:50:49.786111Z"
    }
   },
   "cell_type": "code",
   "source": "new_df.loc[\"Mami\"]",
   "id": "f088b7ad46878a88",
   "outputs": [
    {
     "data": {
      "text/plain": [
       "Salary      -0.328727\n",
       "Age          0.419487\n",
       "Seniority   -0.145498\n",
       "Name: Mami, dtype: float64"
      ]
     },
     "execution_count": 16,
     "metadata": {},
     "output_type": "execute_result"
    }
   ],
   "execution_count": 16
  },
  {
   "metadata": {
    "ExecuteTime": {
     "end_time": "2025-09-06T11:51:05.850437Z",
     "start_time": "2025-09-06T11:51:05.842097Z"
    }
   },
   "cell_type": "code",
   "source": "new_df.iloc[0]",
   "id": "bf8b3042fb5d44a0",
   "outputs": [
    {
     "data": {
      "text/plain": [
       "Salary      -0.328727\n",
       "Age          0.419487\n",
       "Seniority   -0.145498\n",
       "Name: Mami, dtype: float64"
      ]
     },
     "execution_count": 17,
     "metadata": {},
     "output_type": "execute_result"
    }
   ],
   "execution_count": 17
  },
  {
   "metadata": {
    "ExecuteTime": {
     "end_time": "2025-09-06T11:52:40.616262Z",
     "start_time": "2025-09-06T11:52:40.604474Z"
    }
   },
   "cell_type": "code",
   "source": "new_df.iloc[:,0]",
   "id": "41f7198fa2e4c5ee",
   "outputs": [
    {
     "data": {
      "text/plain": [
       "Mami     -0.328727\n",
       "Zeynep    1.339594\n",
       "Atlas     0.343802\n",
       "Ali      -1.662093\n",
       "Name: Salary, dtype: float64"
      ]
     },
     "execution_count": 19,
     "metadata": {},
     "output_type": "execute_result"
    }
   ],
   "execution_count": 19
  },
  {
   "metadata": {
    "ExecuteTime": {
     "end_time": "2025-09-06T11:53:58.722092Z",
     "start_time": "2025-09-06T11:53:58.697726Z"
    }
   },
   "cell_type": "code",
   "source": "new_df[\"Extra\"] = 10",
   "id": "7532cbfffdeaa888",
   "outputs": [],
   "execution_count": 20
  },
  {
   "metadata": {
    "ExecuteTime": {
     "end_time": "2025-09-06T11:54:05.078742Z",
     "start_time": "2025-09-06T11:54:05.067361Z"
    }
   },
   "cell_type": "code",
   "source": "new_df",
   "id": "c43d99472fefdab6",
   "outputs": [
    {
     "data": {
      "text/plain": [
       "          Salary       Age  Seniority  Extra\n",
       "Mami   -0.328727  0.419487  -0.145498     10\n",
       "Zeynep  1.339594  1.063330  -0.051953     10\n",
       "Atlas   0.343802  0.884805  -0.428439     10\n",
       "Ali    -1.662093  0.345113  -0.228517     10"
      ],
      "text/html": [
       "<div>\n",
       "<style scoped>\n",
       "    .dataframe tbody tr th:only-of-type {\n",
       "        vertical-align: middle;\n",
       "    }\n",
       "\n",
       "    .dataframe tbody tr th {\n",
       "        vertical-align: top;\n",
       "    }\n",
       "\n",
       "    .dataframe thead th {\n",
       "        text-align: right;\n",
       "    }\n",
       "</style>\n",
       "<table border=\"1\" class=\"dataframe\">\n",
       "  <thead>\n",
       "    <tr style=\"text-align: right;\">\n",
       "      <th></th>\n",
       "      <th>Salary</th>\n",
       "      <th>Age</th>\n",
       "      <th>Seniority</th>\n",
       "      <th>Extra</th>\n",
       "    </tr>\n",
       "  </thead>\n",
       "  <tbody>\n",
       "    <tr>\n",
       "      <th>Mami</th>\n",
       "      <td>-0.328727</td>\n",
       "      <td>0.419487</td>\n",
       "      <td>-0.145498</td>\n",
       "      <td>10</td>\n",
       "    </tr>\n",
       "    <tr>\n",
       "      <th>Zeynep</th>\n",
       "      <td>1.339594</td>\n",
       "      <td>1.063330</td>\n",
       "      <td>-0.051953</td>\n",
       "      <td>10</td>\n",
       "    </tr>\n",
       "    <tr>\n",
       "      <th>Atlas</th>\n",
       "      <td>0.343802</td>\n",
       "      <td>0.884805</td>\n",
       "      <td>-0.428439</td>\n",
       "      <td>10</td>\n",
       "    </tr>\n",
       "    <tr>\n",
       "      <th>Ali</th>\n",
       "      <td>-1.662093</td>\n",
       "      <td>0.345113</td>\n",
       "      <td>-0.228517</td>\n",
       "      <td>10</td>\n",
       "    </tr>\n",
       "  </tbody>\n",
       "</table>\n",
       "</div>"
      ]
     },
     "execution_count": 21,
     "metadata": {},
     "output_type": "execute_result"
    }
   ],
   "execution_count": 21
  },
  {
   "metadata": {
    "ExecuteTime": {
     "end_time": "2025-09-06T11:56:29.169312Z",
     "start_time": "2025-09-06T11:56:29.159760Z"
    }
   },
   "cell_type": "code",
   "source": "new_df.drop(\"Extra\", axis = 1)",
   "id": "fb8a0aa1b55e6441",
   "outputs": [
    {
     "data": {
      "text/plain": [
       "          Salary       Age  Seniority\n",
       "Mami   -0.328727  0.419487  -0.145498\n",
       "Zeynep  1.339594  1.063330  -0.051953\n",
       "Atlas   0.343802  0.884805  -0.428439\n",
       "Ali    -1.662093  0.345113  -0.228517"
      ],
      "text/html": [
       "<div>\n",
       "<style scoped>\n",
       "    .dataframe tbody tr th:only-of-type {\n",
       "        vertical-align: middle;\n",
       "    }\n",
       "\n",
       "    .dataframe tbody tr th {\n",
       "        vertical-align: top;\n",
       "    }\n",
       "\n",
       "    .dataframe thead th {\n",
       "        text-align: right;\n",
       "    }\n",
       "</style>\n",
       "<table border=\"1\" class=\"dataframe\">\n",
       "  <thead>\n",
       "    <tr style=\"text-align: right;\">\n",
       "      <th></th>\n",
       "      <th>Salary</th>\n",
       "      <th>Age</th>\n",
       "      <th>Seniority</th>\n",
       "    </tr>\n",
       "  </thead>\n",
       "  <tbody>\n",
       "    <tr>\n",
       "      <th>Mami</th>\n",
       "      <td>-0.328727</td>\n",
       "      <td>0.419487</td>\n",
       "      <td>-0.145498</td>\n",
       "    </tr>\n",
       "    <tr>\n",
       "      <th>Zeynep</th>\n",
       "      <td>1.339594</td>\n",
       "      <td>1.063330</td>\n",
       "      <td>-0.051953</td>\n",
       "    </tr>\n",
       "    <tr>\n",
       "      <th>Atlas</th>\n",
       "      <td>0.343802</td>\n",
       "      <td>0.884805</td>\n",
       "      <td>-0.428439</td>\n",
       "    </tr>\n",
       "    <tr>\n",
       "      <th>Ali</th>\n",
       "      <td>-1.662093</td>\n",
       "      <td>0.345113</td>\n",
       "      <td>-0.228517</td>\n",
       "    </tr>\n",
       "  </tbody>\n",
       "</table>\n",
       "</div>"
      ]
     },
     "execution_count": 23,
     "metadata": {},
     "output_type": "execute_result"
    }
   ],
   "execution_count": 23
  },
  {
   "metadata": {
    "ExecuteTime": {
     "end_time": "2025-09-06T11:57:00.199676Z",
     "start_time": "2025-09-06T11:57:00.188683Z"
    }
   },
   "cell_type": "code",
   "source": "new_df",
   "id": "30f66019ab0b746b",
   "outputs": [
    {
     "data": {
      "text/plain": [
       "          Salary       Age  Seniority  Extra\n",
       "Mami   -0.328727  0.419487  -0.145498     10\n",
       "Zeynep  1.339594  1.063330  -0.051953     10\n",
       "Atlas   0.343802  0.884805  -0.428439     10\n",
       "Ali    -1.662093  0.345113  -0.228517     10"
      ],
      "text/html": [
       "<div>\n",
       "<style scoped>\n",
       "    .dataframe tbody tr th:only-of-type {\n",
       "        vertical-align: middle;\n",
       "    }\n",
       "\n",
       "    .dataframe tbody tr th {\n",
       "        vertical-align: top;\n",
       "    }\n",
       "\n",
       "    .dataframe thead th {\n",
       "        text-align: right;\n",
       "    }\n",
       "</style>\n",
       "<table border=\"1\" class=\"dataframe\">\n",
       "  <thead>\n",
       "    <tr style=\"text-align: right;\">\n",
       "      <th></th>\n",
       "      <th>Salary</th>\n",
       "      <th>Age</th>\n",
       "      <th>Seniority</th>\n",
       "      <th>Extra</th>\n",
       "    </tr>\n",
       "  </thead>\n",
       "  <tbody>\n",
       "    <tr>\n",
       "      <th>Mami</th>\n",
       "      <td>-0.328727</td>\n",
       "      <td>0.419487</td>\n",
       "      <td>-0.145498</td>\n",
       "      <td>10</td>\n",
       "    </tr>\n",
       "    <tr>\n",
       "      <th>Zeynep</th>\n",
       "      <td>1.339594</td>\n",
       "      <td>1.063330</td>\n",
       "      <td>-0.051953</td>\n",
       "      <td>10</td>\n",
       "    </tr>\n",
       "    <tr>\n",
       "      <th>Atlas</th>\n",
       "      <td>0.343802</td>\n",
       "      <td>0.884805</td>\n",
       "      <td>-0.428439</td>\n",
       "      <td>10</td>\n",
       "    </tr>\n",
       "    <tr>\n",
       "      <th>Ali</th>\n",
       "      <td>-1.662093</td>\n",
       "      <td>0.345113</td>\n",
       "      <td>-0.228517</td>\n",
       "      <td>10</td>\n",
       "    </tr>\n",
       "  </tbody>\n",
       "</table>\n",
       "</div>"
      ]
     },
     "execution_count": 24,
     "metadata": {},
     "output_type": "execute_result"
    }
   ],
   "execution_count": 24
  },
  {
   "metadata": {
    "ExecuteTime": {
     "end_time": "2025-09-06T11:58:22.512293Z",
     "start_time": "2025-09-06T11:58:22.509218Z"
    }
   },
   "cell_type": "code",
   "source": "#new_df.drop(\"Extra\", axis = 1, inplace = True)",
   "id": "f70f53e56b2ac7da",
   "outputs": [],
   "execution_count": 28
  },
  {
   "metadata": {
    "ExecuteTime": {
     "end_time": "2025-09-06T11:58:25.450436Z",
     "start_time": "2025-09-06T11:58:25.442546Z"
    }
   },
   "cell_type": "code",
   "source": "new_df",
   "id": "2b3f08e63c961c93",
   "outputs": [
    {
     "data": {
      "text/plain": [
       "          Salary       Age  Seniority\n",
       "Mami   -0.328727  0.419487  -0.145498\n",
       "Zeynep  1.339594  1.063330  -0.051953\n",
       "Atlas   0.343802  0.884805  -0.428439\n",
       "Ali    -1.662093  0.345113  -0.228517"
      ],
      "text/html": [
       "<div>\n",
       "<style scoped>\n",
       "    .dataframe tbody tr th:only-of-type {\n",
       "        vertical-align: middle;\n",
       "    }\n",
       "\n",
       "    .dataframe tbody tr th {\n",
       "        vertical-align: top;\n",
       "    }\n",
       "\n",
       "    .dataframe thead th {\n",
       "        text-align: right;\n",
       "    }\n",
       "</style>\n",
       "<table border=\"1\" class=\"dataframe\">\n",
       "  <thead>\n",
       "    <tr style=\"text-align: right;\">\n",
       "      <th></th>\n",
       "      <th>Salary</th>\n",
       "      <th>Age</th>\n",
       "      <th>Seniority</th>\n",
       "    </tr>\n",
       "  </thead>\n",
       "  <tbody>\n",
       "    <tr>\n",
       "      <th>Mami</th>\n",
       "      <td>-0.328727</td>\n",
       "      <td>0.419487</td>\n",
       "      <td>-0.145498</td>\n",
       "    </tr>\n",
       "    <tr>\n",
       "      <th>Zeynep</th>\n",
       "      <td>1.339594</td>\n",
       "      <td>1.063330</td>\n",
       "      <td>-0.051953</td>\n",
       "    </tr>\n",
       "    <tr>\n",
       "      <th>Atlas</th>\n",
       "      <td>0.343802</td>\n",
       "      <td>0.884805</td>\n",
       "      <td>-0.428439</td>\n",
       "    </tr>\n",
       "    <tr>\n",
       "      <th>Ali</th>\n",
       "      <td>-1.662093</td>\n",
       "      <td>0.345113</td>\n",
       "      <td>-0.228517</td>\n",
       "    </tr>\n",
       "  </tbody>\n",
       "</table>\n",
       "</div>"
      ]
     },
     "execution_count": 29,
     "metadata": {},
     "output_type": "execute_result"
    }
   ],
   "execution_count": 29
  },
  {
   "metadata": {
    "ExecuteTime": {
     "end_time": "2025-09-06T11:59:14.381697Z",
     "start_time": "2025-09-06T11:59:14.376366Z"
    }
   },
   "cell_type": "code",
   "source": "new_df[\"Mehmet\"] = 10",
   "id": "49660ffe82d0b7a7",
   "outputs": [],
   "execution_count": 30
  },
  {
   "metadata": {
    "ExecuteTime": {
     "end_time": "2025-09-06T11:59:19.136803Z",
     "start_time": "2025-09-06T11:59:19.125451Z"
    }
   },
   "cell_type": "code",
   "source": "new_df",
   "id": "8714d0ca8a4bd720",
   "outputs": [
    {
     "data": {
      "text/plain": [
       "          Salary       Age  Seniority  Mehmet\n",
       "Mami   -0.328727  0.419487  -0.145498      10\n",
       "Zeynep  1.339594  1.063330  -0.051953      10\n",
       "Atlas   0.343802  0.884805  -0.428439      10\n",
       "Ali    -1.662093  0.345113  -0.228517      10"
      ],
      "text/html": [
       "<div>\n",
       "<style scoped>\n",
       "    .dataframe tbody tr th:only-of-type {\n",
       "        vertical-align: middle;\n",
       "    }\n",
       "\n",
       "    .dataframe tbody tr th {\n",
       "        vertical-align: top;\n",
       "    }\n",
       "\n",
       "    .dataframe thead th {\n",
       "        text-align: right;\n",
       "    }\n",
       "</style>\n",
       "<table border=\"1\" class=\"dataframe\">\n",
       "  <thead>\n",
       "    <tr style=\"text-align: right;\">\n",
       "      <th></th>\n",
       "      <th>Salary</th>\n",
       "      <th>Age</th>\n",
       "      <th>Seniority</th>\n",
       "      <th>Mehmet</th>\n",
       "    </tr>\n",
       "  </thead>\n",
       "  <tbody>\n",
       "    <tr>\n",
       "      <th>Mami</th>\n",
       "      <td>-0.328727</td>\n",
       "      <td>0.419487</td>\n",
       "      <td>-0.145498</td>\n",
       "      <td>10</td>\n",
       "    </tr>\n",
       "    <tr>\n",
       "      <th>Zeynep</th>\n",
       "      <td>1.339594</td>\n",
       "      <td>1.063330</td>\n",
       "      <td>-0.051953</td>\n",
       "      <td>10</td>\n",
       "    </tr>\n",
       "    <tr>\n",
       "      <th>Atlas</th>\n",
       "      <td>0.343802</td>\n",
       "      <td>0.884805</td>\n",
       "      <td>-0.428439</td>\n",
       "      <td>10</td>\n",
       "    </tr>\n",
       "    <tr>\n",
       "      <th>Ali</th>\n",
       "      <td>-1.662093</td>\n",
       "      <td>0.345113</td>\n",
       "      <td>-0.228517</td>\n",
       "      <td>10</td>\n",
       "    </tr>\n",
       "  </tbody>\n",
       "</table>\n",
       "</div>"
      ]
     },
     "execution_count": 31,
     "metadata": {},
     "output_type": "execute_result"
    }
   ],
   "execution_count": 31
  },
  {
   "metadata": {
    "ExecuteTime": {
     "end_time": "2025-09-06T11:59:47.094080Z",
     "start_time": "2025-09-06T11:59:47.083039Z"
    }
   },
   "cell_type": "code",
   "source": [
    "new_df.drop(\"Mehmet\", axis = 1, inplace = True)\n",
    "new_df"
   ],
   "id": "2cb3a40dc71140da",
   "outputs": [
    {
     "data": {
      "text/plain": [
       "          Salary       Age  Seniority\n",
       "Mami   -0.328727  0.419487  -0.145498\n",
       "Zeynep  1.339594  1.063330  -0.051953\n",
       "Atlas   0.343802  0.884805  -0.428439\n",
       "Ali    -1.662093  0.345113  -0.228517"
      ],
      "text/html": [
       "<div>\n",
       "<style scoped>\n",
       "    .dataframe tbody tr th:only-of-type {\n",
       "        vertical-align: middle;\n",
       "    }\n",
       "\n",
       "    .dataframe tbody tr th {\n",
       "        vertical-align: top;\n",
       "    }\n",
       "\n",
       "    .dataframe thead th {\n",
       "        text-align: right;\n",
       "    }\n",
       "</style>\n",
       "<table border=\"1\" class=\"dataframe\">\n",
       "  <thead>\n",
       "    <tr style=\"text-align: right;\">\n",
       "      <th></th>\n",
       "      <th>Salary</th>\n",
       "      <th>Age</th>\n",
       "      <th>Seniority</th>\n",
       "    </tr>\n",
       "  </thead>\n",
       "  <tbody>\n",
       "    <tr>\n",
       "      <th>Mami</th>\n",
       "      <td>-0.328727</td>\n",
       "      <td>0.419487</td>\n",
       "      <td>-0.145498</td>\n",
       "    </tr>\n",
       "    <tr>\n",
       "      <th>Zeynep</th>\n",
       "      <td>1.339594</td>\n",
       "      <td>1.063330</td>\n",
       "      <td>-0.051953</td>\n",
       "    </tr>\n",
       "    <tr>\n",
       "      <th>Atlas</th>\n",
       "      <td>0.343802</td>\n",
       "      <td>0.884805</td>\n",
       "      <td>-0.428439</td>\n",
       "    </tr>\n",
       "    <tr>\n",
       "      <th>Ali</th>\n",
       "      <td>-1.662093</td>\n",
       "      <td>0.345113</td>\n",
       "      <td>-0.228517</td>\n",
       "    </tr>\n",
       "  </tbody>\n",
       "</table>\n",
       "</div>"
      ]
     },
     "execution_count": 32,
     "metadata": {},
     "output_type": "execute_result"
    }
   ],
   "execution_count": 32
  },
  {
   "metadata": {
    "ExecuteTime": {
     "end_time": "2025-09-06T12:00:00.088683Z",
     "start_time": "2025-09-06T12:00:00.084970Z"
    }
   },
   "cell_type": "code",
   "source": "new_df[\"Ali\"] = 10",
   "id": "70d16cecfc55a9a1",
   "outputs": [],
   "execution_count": 33
  },
  {
   "metadata": {
    "ExecuteTime": {
     "end_time": "2025-09-06T12:00:02.297631Z",
     "start_time": "2025-09-06T12:00:02.288287Z"
    }
   },
   "cell_type": "code",
   "source": "new_df",
   "id": "ebfe5eb8b4444963",
   "outputs": [
    {
     "data": {
      "text/plain": [
       "          Salary       Age  Seniority  Ali\n",
       "Mami   -0.328727  0.419487  -0.145498   10\n",
       "Zeynep  1.339594  1.063330  -0.051953   10\n",
       "Atlas   0.343802  0.884805  -0.428439   10\n",
       "Ali    -1.662093  0.345113  -0.228517   10"
      ],
      "text/html": [
       "<div>\n",
       "<style scoped>\n",
       "    .dataframe tbody tr th:only-of-type {\n",
       "        vertical-align: middle;\n",
       "    }\n",
       "\n",
       "    .dataframe tbody tr th {\n",
       "        vertical-align: top;\n",
       "    }\n",
       "\n",
       "    .dataframe thead th {\n",
       "        text-align: right;\n",
       "    }\n",
       "</style>\n",
       "<table border=\"1\" class=\"dataframe\">\n",
       "  <thead>\n",
       "    <tr style=\"text-align: right;\">\n",
       "      <th></th>\n",
       "      <th>Salary</th>\n",
       "      <th>Age</th>\n",
       "      <th>Seniority</th>\n",
       "      <th>Ali</th>\n",
       "    </tr>\n",
       "  </thead>\n",
       "  <tbody>\n",
       "    <tr>\n",
       "      <th>Mami</th>\n",
       "      <td>-0.328727</td>\n",
       "      <td>0.419487</td>\n",
       "      <td>-0.145498</td>\n",
       "      <td>10</td>\n",
       "    </tr>\n",
       "    <tr>\n",
       "      <th>Zeynep</th>\n",
       "      <td>1.339594</td>\n",
       "      <td>1.063330</td>\n",
       "      <td>-0.051953</td>\n",
       "      <td>10</td>\n",
       "    </tr>\n",
       "    <tr>\n",
       "      <th>Atlas</th>\n",
       "      <td>0.343802</td>\n",
       "      <td>0.884805</td>\n",
       "      <td>-0.428439</td>\n",
       "      <td>10</td>\n",
       "    </tr>\n",
       "    <tr>\n",
       "      <th>Ali</th>\n",
       "      <td>-1.662093</td>\n",
       "      <td>0.345113</td>\n",
       "      <td>-0.228517</td>\n",
       "      <td>10</td>\n",
       "    </tr>\n",
       "  </tbody>\n",
       "</table>\n",
       "</div>"
      ]
     },
     "execution_count": 34,
     "metadata": {},
     "output_type": "execute_result"
    }
   ],
   "execution_count": 34
  },
  {
   "metadata": {
    "ExecuteTime": {
     "end_time": "2025-09-06T12:00:20.040861Z",
     "start_time": "2025-09-06T12:00:19.955522Z"
    }
   },
   "cell_type": "code",
   "source": "new_df.drop(\"Ali\")",
   "id": "7659274b122edd02",
   "outputs": [
    {
     "data": {
      "text/plain": [
       "          Salary       Age  Seniority  Ali\n",
       "Mami   -0.328727  0.419487  -0.145498   10\n",
       "Zeynep  1.339594  1.063330  -0.051953   10\n",
       "Atlas   0.343802  0.884805  -0.428439   10"
      ],
      "text/html": [
       "<div>\n",
       "<style scoped>\n",
       "    .dataframe tbody tr th:only-of-type {\n",
       "        vertical-align: middle;\n",
       "    }\n",
       "\n",
       "    .dataframe tbody tr th {\n",
       "        vertical-align: top;\n",
       "    }\n",
       "\n",
       "    .dataframe thead th {\n",
       "        text-align: right;\n",
       "    }\n",
       "</style>\n",
       "<table border=\"1\" class=\"dataframe\">\n",
       "  <thead>\n",
       "    <tr style=\"text-align: right;\">\n",
       "      <th></th>\n",
       "      <th>Salary</th>\n",
       "      <th>Age</th>\n",
       "      <th>Seniority</th>\n",
       "      <th>Ali</th>\n",
       "    </tr>\n",
       "  </thead>\n",
       "  <tbody>\n",
       "    <tr>\n",
       "      <th>Mami</th>\n",
       "      <td>-0.328727</td>\n",
       "      <td>0.419487</td>\n",
       "      <td>-0.145498</td>\n",
       "      <td>10</td>\n",
       "    </tr>\n",
       "    <tr>\n",
       "      <th>Zeynep</th>\n",
       "      <td>1.339594</td>\n",
       "      <td>1.063330</td>\n",
       "      <td>-0.051953</td>\n",
       "      <td>10</td>\n",
       "    </tr>\n",
       "    <tr>\n",
       "      <th>Atlas</th>\n",
       "      <td>0.343802</td>\n",
       "      <td>0.884805</td>\n",
       "      <td>-0.428439</td>\n",
       "      <td>10</td>\n",
       "    </tr>\n",
       "  </tbody>\n",
       "</table>\n",
       "</div>"
      ]
     },
     "execution_count": 35,
     "metadata": {},
     "output_type": "execute_result"
    }
   ],
   "execution_count": 35
  },
  {
   "metadata": {
    "ExecuteTime": {
     "end_time": "2025-09-06T12:00:42.684901Z",
     "start_time": "2025-09-06T12:00:42.675550Z"
    }
   },
   "cell_type": "code",
   "source": "new_df",
   "id": "6b1a17d9ae3c5930",
   "outputs": [
    {
     "data": {
      "text/plain": [
       "          Salary       Age  Seniority  Ali\n",
       "Mami   -0.328727  0.419487  -0.145498   10\n",
       "Zeynep  1.339594  1.063330  -0.051953   10\n",
       "Atlas   0.343802  0.884805  -0.428439   10\n",
       "Ali    -1.662093  0.345113  -0.228517   10"
      ],
      "text/html": [
       "<div>\n",
       "<style scoped>\n",
       "    .dataframe tbody tr th:only-of-type {\n",
       "        vertical-align: middle;\n",
       "    }\n",
       "\n",
       "    .dataframe tbody tr th {\n",
       "        vertical-align: top;\n",
       "    }\n",
       "\n",
       "    .dataframe thead th {\n",
       "        text-align: right;\n",
       "    }\n",
       "</style>\n",
       "<table border=\"1\" class=\"dataframe\">\n",
       "  <thead>\n",
       "    <tr style=\"text-align: right;\">\n",
       "      <th></th>\n",
       "      <th>Salary</th>\n",
       "      <th>Age</th>\n",
       "      <th>Seniority</th>\n",
       "      <th>Ali</th>\n",
       "    </tr>\n",
       "  </thead>\n",
       "  <tbody>\n",
       "    <tr>\n",
       "      <th>Mami</th>\n",
       "      <td>-0.328727</td>\n",
       "      <td>0.419487</td>\n",
       "      <td>-0.145498</td>\n",
       "      <td>10</td>\n",
       "    </tr>\n",
       "    <tr>\n",
       "      <th>Zeynep</th>\n",
       "      <td>1.339594</td>\n",
       "      <td>1.063330</td>\n",
       "      <td>-0.051953</td>\n",
       "      <td>10</td>\n",
       "    </tr>\n",
       "    <tr>\n",
       "      <th>Atlas</th>\n",
       "      <td>0.343802</td>\n",
       "      <td>0.884805</td>\n",
       "      <td>-0.428439</td>\n",
       "      <td>10</td>\n",
       "    </tr>\n",
       "    <tr>\n",
       "      <th>Ali</th>\n",
       "      <td>-1.662093</td>\n",
       "      <td>0.345113</td>\n",
       "      <td>-0.228517</td>\n",
       "      <td>10</td>\n",
       "    </tr>\n",
       "  </tbody>\n",
       "</table>\n",
       "</div>"
      ]
     },
     "execution_count": 36,
     "metadata": {},
     "output_type": "execute_result"
    }
   ],
   "execution_count": 36
  },
  {
   "metadata": {
    "ExecuteTime": {
     "end_time": "2025-09-06T12:00:54.945173Z",
     "start_time": "2025-09-06T12:00:54.930003Z"
    }
   },
   "cell_type": "code",
   "source": [
    "new_df.drop(\"Ali\", axis = 1, inplace = True)\n",
    "new_df"
   ],
   "id": "d151e60482986f52",
   "outputs": [
    {
     "data": {
      "text/plain": [
       "          Salary       Age  Seniority\n",
       "Mami   -0.328727  0.419487  -0.145498\n",
       "Zeynep  1.339594  1.063330  -0.051953\n",
       "Atlas   0.343802  0.884805  -0.428439\n",
       "Ali    -1.662093  0.345113  -0.228517"
      ],
      "text/html": [
       "<div>\n",
       "<style scoped>\n",
       "    .dataframe tbody tr th:only-of-type {\n",
       "        vertical-align: middle;\n",
       "    }\n",
       "\n",
       "    .dataframe tbody tr th {\n",
       "        vertical-align: top;\n",
       "    }\n",
       "\n",
       "    .dataframe thead th {\n",
       "        text-align: right;\n",
       "    }\n",
       "</style>\n",
       "<table border=\"1\" class=\"dataframe\">\n",
       "  <thead>\n",
       "    <tr style=\"text-align: right;\">\n",
       "      <th></th>\n",
       "      <th>Salary</th>\n",
       "      <th>Age</th>\n",
       "      <th>Seniority</th>\n",
       "    </tr>\n",
       "  </thead>\n",
       "  <tbody>\n",
       "    <tr>\n",
       "      <th>Mami</th>\n",
       "      <td>-0.328727</td>\n",
       "      <td>0.419487</td>\n",
       "      <td>-0.145498</td>\n",
       "    </tr>\n",
       "    <tr>\n",
       "      <th>Zeynep</th>\n",
       "      <td>1.339594</td>\n",
       "      <td>1.063330</td>\n",
       "      <td>-0.051953</td>\n",
       "    </tr>\n",
       "    <tr>\n",
       "      <th>Atlas</th>\n",
       "      <td>0.343802</td>\n",
       "      <td>0.884805</td>\n",
       "      <td>-0.428439</td>\n",
       "    </tr>\n",
       "    <tr>\n",
       "      <th>Ali</th>\n",
       "      <td>-1.662093</td>\n",
       "      <td>0.345113</td>\n",
       "      <td>-0.228517</td>\n",
       "    </tr>\n",
       "  </tbody>\n",
       "</table>\n",
       "</div>"
      ]
     },
     "execution_count": 37,
     "metadata": {},
     "output_type": "execute_result"
    }
   ],
   "execution_count": 37
  },
  {
   "metadata": {
    "ExecuteTime": {
     "end_time": "2025-09-06T12:01:19.520947Z",
     "start_time": "2025-09-06T12:01:19.507400Z"
    }
   },
   "cell_type": "code",
   "source": "new_df.drop(\"Ali\", axis = 0)",
   "id": "d020d4ea7c522562",
   "outputs": [
    {
     "data": {
      "text/plain": [
       "          Salary       Age  Seniority\n",
       "Mami   -0.328727  0.419487  -0.145498\n",
       "Zeynep  1.339594  1.063330  -0.051953\n",
       "Atlas   0.343802  0.884805  -0.428439"
      ],
      "text/html": [
       "<div>\n",
       "<style scoped>\n",
       "    .dataframe tbody tr th:only-of-type {\n",
       "        vertical-align: middle;\n",
       "    }\n",
       "\n",
       "    .dataframe tbody tr th {\n",
       "        vertical-align: top;\n",
       "    }\n",
       "\n",
       "    .dataframe thead th {\n",
       "        text-align: right;\n",
       "    }\n",
       "</style>\n",
       "<table border=\"1\" class=\"dataframe\">\n",
       "  <thead>\n",
       "    <tr style=\"text-align: right;\">\n",
       "      <th></th>\n",
       "      <th>Salary</th>\n",
       "      <th>Age</th>\n",
       "      <th>Seniority</th>\n",
       "    </tr>\n",
       "  </thead>\n",
       "  <tbody>\n",
       "    <tr>\n",
       "      <th>Mami</th>\n",
       "      <td>-0.328727</td>\n",
       "      <td>0.419487</td>\n",
       "      <td>-0.145498</td>\n",
       "    </tr>\n",
       "    <tr>\n",
       "      <th>Zeynep</th>\n",
       "      <td>1.339594</td>\n",
       "      <td>1.063330</td>\n",
       "      <td>-0.051953</td>\n",
       "    </tr>\n",
       "    <tr>\n",
       "      <th>Atlas</th>\n",
       "      <td>0.343802</td>\n",
       "      <td>0.884805</td>\n",
       "      <td>-0.428439</td>\n",
       "    </tr>\n",
       "  </tbody>\n",
       "</table>\n",
       "</div>"
      ]
     },
     "execution_count": 38,
     "metadata": {},
     "output_type": "execute_result"
    }
   ],
   "execution_count": 38
  },
  {
   "metadata": {
    "ExecuteTime": {
     "end_time": "2025-09-06T12:01:23.768357Z",
     "start_time": "2025-09-06T12:01:23.760697Z"
    }
   },
   "cell_type": "code",
   "source": "new_df",
   "id": "d706e69c99baa283",
   "outputs": [
    {
     "data": {
      "text/plain": [
       "          Salary       Age  Seniority\n",
       "Mami   -0.328727  0.419487  -0.145498\n",
       "Zeynep  1.339594  1.063330  -0.051953\n",
       "Atlas   0.343802  0.884805  -0.428439\n",
       "Ali    -1.662093  0.345113  -0.228517"
      ],
      "text/html": [
       "<div>\n",
       "<style scoped>\n",
       "    .dataframe tbody tr th:only-of-type {\n",
       "        vertical-align: middle;\n",
       "    }\n",
       "\n",
       "    .dataframe tbody tr th {\n",
       "        vertical-align: top;\n",
       "    }\n",
       "\n",
       "    .dataframe thead th {\n",
       "        text-align: right;\n",
       "    }\n",
       "</style>\n",
       "<table border=\"1\" class=\"dataframe\">\n",
       "  <thead>\n",
       "    <tr style=\"text-align: right;\">\n",
       "      <th></th>\n",
       "      <th>Salary</th>\n",
       "      <th>Age</th>\n",
       "      <th>Seniority</th>\n",
       "    </tr>\n",
       "  </thead>\n",
       "  <tbody>\n",
       "    <tr>\n",
       "      <th>Mami</th>\n",
       "      <td>-0.328727</td>\n",
       "      <td>0.419487</td>\n",
       "      <td>-0.145498</td>\n",
       "    </tr>\n",
       "    <tr>\n",
       "      <th>Zeynep</th>\n",
       "      <td>1.339594</td>\n",
       "      <td>1.063330</td>\n",
       "      <td>-0.051953</td>\n",
       "    </tr>\n",
       "    <tr>\n",
       "      <th>Atlas</th>\n",
       "      <td>0.343802</td>\n",
       "      <td>0.884805</td>\n",
       "      <td>-0.428439</td>\n",
       "    </tr>\n",
       "    <tr>\n",
       "      <th>Ali</th>\n",
       "      <td>-1.662093</td>\n",
       "      <td>0.345113</td>\n",
       "      <td>-0.228517</td>\n",
       "    </tr>\n",
       "  </tbody>\n",
       "</table>\n",
       "</div>"
      ]
     },
     "execution_count": 39,
     "metadata": {},
     "output_type": "execute_result"
    }
   ],
   "execution_count": 39
  },
  {
   "metadata": {
    "ExecuteTime": {
     "end_time": "2025-09-06T12:01:39.206455Z",
     "start_time": "2025-09-06T12:01:39.199349Z"
    }
   },
   "cell_type": "code",
   "source": "new_df.loc[\"Mami\"]",
   "id": "66bb5c1599bb515e",
   "outputs": [
    {
     "data": {
      "text/plain": [
       "Salary      -0.328727\n",
       "Age          0.419487\n",
       "Seniority   -0.145498\n",
       "Name: Mami, dtype: float64"
      ]
     },
     "execution_count": 40,
     "metadata": {},
     "output_type": "execute_result"
    }
   ],
   "execution_count": 40
  },
  {
   "metadata": {
    "ExecuteTime": {
     "end_time": "2025-09-06T12:02:23.522083Z",
     "start_time": "2025-09-06T12:02:23.515754Z"
    }
   },
   "cell_type": "code",
   "source": "new_df.loc[\"Mami\"][\"Salary\"]",
   "id": "b285f1f7c73f4c0b",
   "outputs": [
    {
     "data": {
      "text/plain": [
       "np.float64(-0.32872682999830977)"
      ]
     },
     "execution_count": 41,
     "metadata": {},
     "output_type": "execute_result"
    }
   ],
   "execution_count": 41
  },
  {
   "metadata": {
    "ExecuteTime": {
     "end_time": "2025-09-06T12:02:39.356695Z",
     "start_time": "2025-09-06T12:02:39.350380Z"
    }
   },
   "cell_type": "code",
   "source": "new_df.loc[\"Mami\",\"Salary\"]",
   "id": "d4135899b5ad00b8",
   "outputs": [
    {
     "data": {
      "text/plain": [
       "np.float64(-0.32872682999830977)"
      ]
     },
     "execution_count": 42,
     "metadata": {},
     "output_type": "execute_result"
    }
   ],
   "execution_count": 42
  },
  {
   "metadata": {
    "ExecuteTime": {
     "end_time": "2025-09-06T12:02:51.414823Z",
     "start_time": "2025-09-06T12:02:51.410795Z"
    }
   },
   "cell_type": "code",
   "source": "new_df.loc[\"Mami\",\"Salary\"] = 100",
   "id": "4b8d3a695329f820",
   "outputs": [],
   "execution_count": 43
  },
  {
   "metadata": {
    "ExecuteTime": {
     "end_time": "2025-09-06T12:02:54.145864Z",
     "start_time": "2025-09-06T12:02:54.134916Z"
    }
   },
   "cell_type": "code",
   "source": "new_df",
   "id": "9cecd395f81f37e3",
   "outputs": [
    {
     "data": {
      "text/plain": [
       "            Salary       Age  Seniority\n",
       "Mami    100.000000  0.419487  -0.145498\n",
       "Zeynep    1.339594  1.063330  -0.051953\n",
       "Atlas     0.343802  0.884805  -0.428439\n",
       "Ali      -1.662093  0.345113  -0.228517"
      ],
      "text/html": [
       "<div>\n",
       "<style scoped>\n",
       "    .dataframe tbody tr th:only-of-type {\n",
       "        vertical-align: middle;\n",
       "    }\n",
       "\n",
       "    .dataframe tbody tr th {\n",
       "        vertical-align: top;\n",
       "    }\n",
       "\n",
       "    .dataframe thead th {\n",
       "        text-align: right;\n",
       "    }\n",
       "</style>\n",
       "<table border=\"1\" class=\"dataframe\">\n",
       "  <thead>\n",
       "    <tr style=\"text-align: right;\">\n",
       "      <th></th>\n",
       "      <th>Salary</th>\n",
       "      <th>Age</th>\n",
       "      <th>Seniority</th>\n",
       "    </tr>\n",
       "  </thead>\n",
       "  <tbody>\n",
       "    <tr>\n",
       "      <th>Mami</th>\n",
       "      <td>100.000000</td>\n",
       "      <td>0.419487</td>\n",
       "      <td>-0.145498</td>\n",
       "    </tr>\n",
       "    <tr>\n",
       "      <th>Zeynep</th>\n",
       "      <td>1.339594</td>\n",
       "      <td>1.063330</td>\n",
       "      <td>-0.051953</td>\n",
       "    </tr>\n",
       "    <tr>\n",
       "      <th>Atlas</th>\n",
       "      <td>0.343802</td>\n",
       "      <td>0.884805</td>\n",
       "      <td>-0.428439</td>\n",
       "    </tr>\n",
       "    <tr>\n",
       "      <th>Ali</th>\n",
       "      <td>-1.662093</td>\n",
       "      <td>0.345113</td>\n",
       "      <td>-0.228517</td>\n",
       "    </tr>\n",
       "  </tbody>\n",
       "</table>\n",
       "</div>"
      ]
     },
     "execution_count": 44,
     "metadata": {},
     "output_type": "execute_result"
    }
   ],
   "execution_count": 44
  },
  {
   "metadata": {
    "ExecuteTime": {
     "end_time": "2025-09-06T12:03:18.279510Z",
     "start_time": "2025-09-06T12:03:18.258944Z"
    }
   },
   "cell_type": "code",
   "source": "new_df > 0",
   "id": "2ac09c9de7ebf456",
   "outputs": [
    {
     "data": {
      "text/plain": [
       "        Salary   Age  Seniority\n",
       "Mami      True  True      False\n",
       "Zeynep    True  True      False\n",
       "Atlas     True  True      False\n",
       "Ali      False  True      False"
      ],
      "text/html": [
       "<div>\n",
       "<style scoped>\n",
       "    .dataframe tbody tr th:only-of-type {\n",
       "        vertical-align: middle;\n",
       "    }\n",
       "\n",
       "    .dataframe tbody tr th {\n",
       "        vertical-align: top;\n",
       "    }\n",
       "\n",
       "    .dataframe thead th {\n",
       "        text-align: right;\n",
       "    }\n",
       "</style>\n",
       "<table border=\"1\" class=\"dataframe\">\n",
       "  <thead>\n",
       "    <tr style=\"text-align: right;\">\n",
       "      <th></th>\n",
       "      <th>Salary</th>\n",
       "      <th>Age</th>\n",
       "      <th>Seniority</th>\n",
       "    </tr>\n",
       "  </thead>\n",
       "  <tbody>\n",
       "    <tr>\n",
       "      <th>Mami</th>\n",
       "      <td>True</td>\n",
       "      <td>True</td>\n",
       "      <td>False</td>\n",
       "    </tr>\n",
       "    <tr>\n",
       "      <th>Zeynep</th>\n",
       "      <td>True</td>\n",
       "      <td>True</td>\n",
       "      <td>False</td>\n",
       "    </tr>\n",
       "    <tr>\n",
       "      <th>Atlas</th>\n",
       "      <td>True</td>\n",
       "      <td>True</td>\n",
       "      <td>False</td>\n",
       "    </tr>\n",
       "    <tr>\n",
       "      <th>Ali</th>\n",
       "      <td>False</td>\n",
       "      <td>True</td>\n",
       "      <td>False</td>\n",
       "    </tr>\n",
       "  </tbody>\n",
       "</table>\n",
       "</div>"
      ]
     },
     "execution_count": 45,
     "metadata": {},
     "output_type": "execute_result"
    }
   ],
   "execution_count": 45
  },
  {
   "metadata": {
    "ExecuteTime": {
     "end_time": "2025-09-06T12:03:36.119319Z",
     "start_time": "2025-09-06T12:03:36.113988Z"
    }
   },
   "cell_type": "code",
   "source": "boolean_frame = new_df > 0",
   "id": "ddacc96f192ea789",
   "outputs": [],
   "execution_count": 46
  },
  {
   "metadata": {
    "ExecuteTime": {
     "end_time": "2025-09-06T12:03:44.517058Z",
     "start_time": "2025-09-06T12:03:44.507494Z"
    }
   },
   "cell_type": "code",
   "source": "new_df[boolean_frame]",
   "id": "abe004815321fa96",
   "outputs": [
    {
     "data": {
      "text/plain": [
       "            Salary       Age  Seniority\n",
       "Mami    100.000000  0.419487        NaN\n",
       "Zeynep    1.339594  1.063330        NaN\n",
       "Atlas     0.343802  0.884805        NaN\n",
       "Ali            NaN  0.345113        NaN"
      ],
      "text/html": [
       "<div>\n",
       "<style scoped>\n",
       "    .dataframe tbody tr th:only-of-type {\n",
       "        vertical-align: middle;\n",
       "    }\n",
       "\n",
       "    .dataframe tbody tr th {\n",
       "        vertical-align: top;\n",
       "    }\n",
       "\n",
       "    .dataframe thead th {\n",
       "        text-align: right;\n",
       "    }\n",
       "</style>\n",
       "<table border=\"1\" class=\"dataframe\">\n",
       "  <thead>\n",
       "    <tr style=\"text-align: right;\">\n",
       "      <th></th>\n",
       "      <th>Salary</th>\n",
       "      <th>Age</th>\n",
       "      <th>Seniority</th>\n",
       "    </tr>\n",
       "  </thead>\n",
       "  <tbody>\n",
       "    <tr>\n",
       "      <th>Mami</th>\n",
       "      <td>100.000000</td>\n",
       "      <td>0.419487</td>\n",
       "      <td>NaN</td>\n",
       "    </tr>\n",
       "    <tr>\n",
       "      <th>Zeynep</th>\n",
       "      <td>1.339594</td>\n",
       "      <td>1.063330</td>\n",
       "      <td>NaN</td>\n",
       "    </tr>\n",
       "    <tr>\n",
       "      <th>Atlas</th>\n",
       "      <td>0.343802</td>\n",
       "      <td>0.884805</td>\n",
       "      <td>NaN</td>\n",
       "    </tr>\n",
       "    <tr>\n",
       "      <th>Ali</th>\n",
       "      <td>NaN</td>\n",
       "      <td>0.345113</td>\n",
       "      <td>NaN</td>\n",
       "    </tr>\n",
       "  </tbody>\n",
       "</table>\n",
       "</div>"
      ]
     },
     "execution_count": 47,
     "metadata": {},
     "output_type": "execute_result"
    }
   ],
   "execution_count": 47
  },
  {
   "metadata": {
    "ExecuteTime": {
     "end_time": "2025-09-06T12:03:57.714813Z",
     "start_time": "2025-09-06T12:03:57.696099Z"
    }
   },
   "cell_type": "code",
   "source": "new_df[new_df> 0]",
   "id": "830e771b7a853d9",
   "outputs": [
    {
     "data": {
      "text/plain": [
       "            Salary       Age  Seniority\n",
       "Mami    100.000000  0.419487        NaN\n",
       "Zeynep    1.339594  1.063330        NaN\n",
       "Atlas     0.343802  0.884805        NaN\n",
       "Ali            NaN  0.345113        NaN"
      ],
      "text/html": [
       "<div>\n",
       "<style scoped>\n",
       "    .dataframe tbody tr th:only-of-type {\n",
       "        vertical-align: middle;\n",
       "    }\n",
       "\n",
       "    .dataframe tbody tr th {\n",
       "        vertical-align: top;\n",
       "    }\n",
       "\n",
       "    .dataframe thead th {\n",
       "        text-align: right;\n",
       "    }\n",
       "</style>\n",
       "<table border=\"1\" class=\"dataframe\">\n",
       "  <thead>\n",
       "    <tr style=\"text-align: right;\">\n",
       "      <th></th>\n",
       "      <th>Salary</th>\n",
       "      <th>Age</th>\n",
       "      <th>Seniority</th>\n",
       "    </tr>\n",
       "  </thead>\n",
       "  <tbody>\n",
       "    <tr>\n",
       "      <th>Mami</th>\n",
       "      <td>100.000000</td>\n",
       "      <td>0.419487</td>\n",
       "      <td>NaN</td>\n",
       "    </tr>\n",
       "    <tr>\n",
       "      <th>Zeynep</th>\n",
       "      <td>1.339594</td>\n",
       "      <td>1.063330</td>\n",
       "      <td>NaN</td>\n",
       "    </tr>\n",
       "    <tr>\n",
       "      <th>Atlas</th>\n",
       "      <td>0.343802</td>\n",
       "      <td>0.884805</td>\n",
       "      <td>NaN</td>\n",
       "    </tr>\n",
       "    <tr>\n",
       "      <th>Ali</th>\n",
       "      <td>NaN</td>\n",
       "      <td>0.345113</td>\n",
       "      <td>NaN</td>\n",
       "    </tr>\n",
       "  </tbody>\n",
       "</table>\n",
       "</div>"
      ]
     },
     "execution_count": 48,
     "metadata": {},
     "output_type": "execute_result"
    }
   ],
   "execution_count": 48
  },
  {
   "metadata": {
    "ExecuteTime": {
     "end_time": "2025-09-06T12:04:17.433837Z",
     "start_time": "2025-09-06T12:04:17.421078Z"
    }
   },
   "cell_type": "code",
   "source": "new_df[new_df[\"Salary\"]>1]",
   "id": "6a73b69012d9b2e1",
   "outputs": [
    {
     "data": {
      "text/plain": [
       "            Salary       Age  Seniority\n",
       "Mami    100.000000  0.419487  -0.145498\n",
       "Zeynep    1.339594  1.063330  -0.051953"
      ],
      "text/html": [
       "<div>\n",
       "<style scoped>\n",
       "    .dataframe tbody tr th:only-of-type {\n",
       "        vertical-align: middle;\n",
       "    }\n",
       "\n",
       "    .dataframe tbody tr th {\n",
       "        vertical-align: top;\n",
       "    }\n",
       "\n",
       "    .dataframe thead th {\n",
       "        text-align: right;\n",
       "    }\n",
       "</style>\n",
       "<table border=\"1\" class=\"dataframe\">\n",
       "  <thead>\n",
       "    <tr style=\"text-align: right;\">\n",
       "      <th></th>\n",
       "      <th>Salary</th>\n",
       "      <th>Age</th>\n",
       "      <th>Seniority</th>\n",
       "    </tr>\n",
       "  </thead>\n",
       "  <tbody>\n",
       "    <tr>\n",
       "      <th>Mami</th>\n",
       "      <td>100.000000</td>\n",
       "      <td>0.419487</td>\n",
       "      <td>-0.145498</td>\n",
       "    </tr>\n",
       "    <tr>\n",
       "      <th>Zeynep</th>\n",
       "      <td>1.339594</td>\n",
       "      <td>1.063330</td>\n",
       "      <td>-0.051953</td>\n",
       "    </tr>\n",
       "  </tbody>\n",
       "</table>\n",
       "</div>"
      ]
     },
     "execution_count": 49,
     "metadata": {},
     "output_type": "execute_result"
    }
   ],
   "execution_count": 49
  },
  {
   "metadata": {
    "ExecuteTime": {
     "end_time": "2025-09-06T12:04:58.591974Z",
     "start_time": "2025-09-06T12:04:58.563742Z"
    }
   },
   "cell_type": "code",
   "source": "new_df[new_df[\"Age\"]<1]",
   "id": "b919b43fd82f8160",
   "outputs": [
    {
     "data": {
      "text/plain": [
       "           Salary       Age  Seniority\n",
       "Mami   100.000000  0.419487  -0.145498\n",
       "Atlas    0.343802  0.884805  -0.428439\n",
       "Ali     -1.662093  0.345113  -0.228517"
      ],
      "text/html": [
       "<div>\n",
       "<style scoped>\n",
       "    .dataframe tbody tr th:only-of-type {\n",
       "        vertical-align: middle;\n",
       "    }\n",
       "\n",
       "    .dataframe tbody tr th {\n",
       "        vertical-align: top;\n",
       "    }\n",
       "\n",
       "    .dataframe thead th {\n",
       "        text-align: right;\n",
       "    }\n",
       "</style>\n",
       "<table border=\"1\" class=\"dataframe\">\n",
       "  <thead>\n",
       "    <tr style=\"text-align: right;\">\n",
       "      <th></th>\n",
       "      <th>Salary</th>\n",
       "      <th>Age</th>\n",
       "      <th>Seniority</th>\n",
       "    </tr>\n",
       "  </thead>\n",
       "  <tbody>\n",
       "    <tr>\n",
       "      <th>Mami</th>\n",
       "      <td>100.000000</td>\n",
       "      <td>0.419487</td>\n",
       "      <td>-0.145498</td>\n",
       "    </tr>\n",
       "    <tr>\n",
       "      <th>Atlas</th>\n",
       "      <td>0.343802</td>\n",
       "      <td>0.884805</td>\n",
       "      <td>-0.428439</td>\n",
       "    </tr>\n",
       "    <tr>\n",
       "      <th>Ali</th>\n",
       "      <td>-1.662093</td>\n",
       "      <td>0.345113</td>\n",
       "      <td>-0.228517</td>\n",
       "    </tr>\n",
       "  </tbody>\n",
       "</table>\n",
       "</div>"
      ]
     },
     "execution_count": 51,
     "metadata": {},
     "output_type": "execute_result"
    }
   ],
   "execution_count": 51
  },
  {
   "metadata": {
    "ExecuteTime": {
     "end_time": "2025-09-06T12:07:18.621504Z",
     "start_time": "2025-09-06T12:07:18.611477Z"
    }
   },
   "cell_type": "code",
   "source": "new_df",
   "id": "dfa4f8feaa8bc57a",
   "outputs": [
    {
     "data": {
      "text/plain": [
       "            Salary       Age  Seniority\n",
       "Mami    100.000000  0.419487  -0.145498\n",
       "Zeynep    1.339594  1.063330  -0.051953\n",
       "Atlas     0.343802  0.884805  -0.428439\n",
       "Ali      -1.662093  0.345113  -0.228517"
      ],
      "text/html": [
       "<div>\n",
       "<style scoped>\n",
       "    .dataframe tbody tr th:only-of-type {\n",
       "        vertical-align: middle;\n",
       "    }\n",
       "\n",
       "    .dataframe tbody tr th {\n",
       "        vertical-align: top;\n",
       "    }\n",
       "\n",
       "    .dataframe thead th {\n",
       "        text-align: right;\n",
       "    }\n",
       "</style>\n",
       "<table border=\"1\" class=\"dataframe\">\n",
       "  <thead>\n",
       "    <tr style=\"text-align: right;\">\n",
       "      <th></th>\n",
       "      <th>Salary</th>\n",
       "      <th>Age</th>\n",
       "      <th>Seniority</th>\n",
       "    </tr>\n",
       "  </thead>\n",
       "  <tbody>\n",
       "    <tr>\n",
       "      <th>Mami</th>\n",
       "      <td>100.000000</td>\n",
       "      <td>0.419487</td>\n",
       "      <td>-0.145498</td>\n",
       "    </tr>\n",
       "    <tr>\n",
       "      <th>Zeynep</th>\n",
       "      <td>1.339594</td>\n",
       "      <td>1.063330</td>\n",
       "      <td>-0.051953</td>\n",
       "    </tr>\n",
       "    <tr>\n",
       "      <th>Atlas</th>\n",
       "      <td>0.343802</td>\n",
       "      <td>0.884805</td>\n",
       "      <td>-0.428439</td>\n",
       "    </tr>\n",
       "    <tr>\n",
       "      <th>Ali</th>\n",
       "      <td>-1.662093</td>\n",
       "      <td>0.345113</td>\n",
       "      <td>-0.228517</td>\n",
       "    </tr>\n",
       "  </tbody>\n",
       "</table>\n",
       "</div>"
      ]
     },
     "execution_count": 52,
     "metadata": {},
     "output_type": "execute_result"
    }
   ],
   "execution_count": 52
  },
  {
   "metadata": {
    "ExecuteTime": {
     "end_time": "2025-09-06T12:07:51.717399Z",
     "start_time": "2025-09-06T12:07:51.692471Z"
    }
   },
   "cell_type": "code",
   "source": "new_df.reset_index()",
   "id": "7796de3a7b547d9",
   "outputs": [
    {
     "data": {
      "text/plain": [
       "    index      Salary       Age  Seniority\n",
       "0    Mami  100.000000  0.419487  -0.145498\n",
       "1  Zeynep    1.339594  1.063330  -0.051953\n",
       "2   Atlas    0.343802  0.884805  -0.428439\n",
       "3     Ali   -1.662093  0.345113  -0.228517"
      ],
      "text/html": [
       "<div>\n",
       "<style scoped>\n",
       "    .dataframe tbody tr th:only-of-type {\n",
       "        vertical-align: middle;\n",
       "    }\n",
       "\n",
       "    .dataframe tbody tr th {\n",
       "        vertical-align: top;\n",
       "    }\n",
       "\n",
       "    .dataframe thead th {\n",
       "        text-align: right;\n",
       "    }\n",
       "</style>\n",
       "<table border=\"1\" class=\"dataframe\">\n",
       "  <thead>\n",
       "    <tr style=\"text-align: right;\">\n",
       "      <th></th>\n",
       "      <th>index</th>\n",
       "      <th>Salary</th>\n",
       "      <th>Age</th>\n",
       "      <th>Seniority</th>\n",
       "    </tr>\n",
       "  </thead>\n",
       "  <tbody>\n",
       "    <tr>\n",
       "      <th>0</th>\n",
       "      <td>Mami</td>\n",
       "      <td>100.000000</td>\n",
       "      <td>0.419487</td>\n",
       "      <td>-0.145498</td>\n",
       "    </tr>\n",
       "    <tr>\n",
       "      <th>1</th>\n",
       "      <td>Zeynep</td>\n",
       "      <td>1.339594</td>\n",
       "      <td>1.063330</td>\n",
       "      <td>-0.051953</td>\n",
       "    </tr>\n",
       "    <tr>\n",
       "      <th>2</th>\n",
       "      <td>Atlas</td>\n",
       "      <td>0.343802</td>\n",
       "      <td>0.884805</td>\n",
       "      <td>-0.428439</td>\n",
       "    </tr>\n",
       "    <tr>\n",
       "      <th>3</th>\n",
       "      <td>Ali</td>\n",
       "      <td>-1.662093</td>\n",
       "      <td>0.345113</td>\n",
       "      <td>-0.228517</td>\n",
       "    </tr>\n",
       "  </tbody>\n",
       "</table>\n",
       "</div>"
      ]
     },
     "execution_count": 53,
     "metadata": {},
     "output_type": "execute_result"
    }
   ],
   "execution_count": 53
  },
  {
   "metadata": {
    "ExecuteTime": {
     "end_time": "2025-09-06T12:07:57.977949Z",
     "start_time": "2025-09-06T12:07:57.967117Z"
    }
   },
   "cell_type": "code",
   "source": "new_df",
   "id": "437f821fde9b30dc",
   "outputs": [
    {
     "data": {
      "text/plain": [
       "            Salary       Age  Seniority\n",
       "Mami    100.000000  0.419487  -0.145498\n",
       "Zeynep    1.339594  1.063330  -0.051953\n",
       "Atlas     0.343802  0.884805  -0.428439\n",
       "Ali      -1.662093  0.345113  -0.228517"
      ],
      "text/html": [
       "<div>\n",
       "<style scoped>\n",
       "    .dataframe tbody tr th:only-of-type {\n",
       "        vertical-align: middle;\n",
       "    }\n",
       "\n",
       "    .dataframe tbody tr th {\n",
       "        vertical-align: top;\n",
       "    }\n",
       "\n",
       "    .dataframe thead th {\n",
       "        text-align: right;\n",
       "    }\n",
       "</style>\n",
       "<table border=\"1\" class=\"dataframe\">\n",
       "  <thead>\n",
       "    <tr style=\"text-align: right;\">\n",
       "      <th></th>\n",
       "      <th>Salary</th>\n",
       "      <th>Age</th>\n",
       "      <th>Seniority</th>\n",
       "    </tr>\n",
       "  </thead>\n",
       "  <tbody>\n",
       "    <tr>\n",
       "      <th>Mami</th>\n",
       "      <td>100.000000</td>\n",
       "      <td>0.419487</td>\n",
       "      <td>-0.145498</td>\n",
       "    </tr>\n",
       "    <tr>\n",
       "      <th>Zeynep</th>\n",
       "      <td>1.339594</td>\n",
       "      <td>1.063330</td>\n",
       "      <td>-0.051953</td>\n",
       "    </tr>\n",
       "    <tr>\n",
       "      <th>Atlas</th>\n",
       "      <td>0.343802</td>\n",
       "      <td>0.884805</td>\n",
       "      <td>-0.428439</td>\n",
       "    </tr>\n",
       "    <tr>\n",
       "      <th>Ali</th>\n",
       "      <td>-1.662093</td>\n",
       "      <td>0.345113</td>\n",
       "      <td>-0.228517</td>\n",
       "    </tr>\n",
       "  </tbody>\n",
       "</table>\n",
       "</div>"
      ]
     },
     "execution_count": 54,
     "metadata": {},
     "output_type": "execute_result"
    }
   ],
   "execution_count": 54
  },
  {
   "metadata": {
    "ExecuteTime": {
     "end_time": "2025-09-06T12:08:09.577365Z",
     "start_time": "2025-09-06T12:08:09.573201Z"
    }
   },
   "cell_type": "code",
   "source": "reset_frame = new_df.reset_index()",
   "id": "4c785c417fd397ad",
   "outputs": [],
   "execution_count": 55
  },
  {
   "metadata": {
    "ExecuteTime": {
     "end_time": "2025-09-06T12:08:12.079652Z",
     "start_time": "2025-09-06T12:08:12.070211Z"
    }
   },
   "cell_type": "code",
   "source": "reset_frame",
   "id": "7b69ea691d15c11a",
   "outputs": [
    {
     "data": {
      "text/plain": [
       "    index      Salary       Age  Seniority\n",
       "0    Mami  100.000000  0.419487  -0.145498\n",
       "1  Zeynep    1.339594  1.063330  -0.051953\n",
       "2   Atlas    0.343802  0.884805  -0.428439\n",
       "3     Ali   -1.662093  0.345113  -0.228517"
      ],
      "text/html": [
       "<div>\n",
       "<style scoped>\n",
       "    .dataframe tbody tr th:only-of-type {\n",
       "        vertical-align: middle;\n",
       "    }\n",
       "\n",
       "    .dataframe tbody tr th {\n",
       "        vertical-align: top;\n",
       "    }\n",
       "\n",
       "    .dataframe thead th {\n",
       "        text-align: right;\n",
       "    }\n",
       "</style>\n",
       "<table border=\"1\" class=\"dataframe\">\n",
       "  <thead>\n",
       "    <tr style=\"text-align: right;\">\n",
       "      <th></th>\n",
       "      <th>index</th>\n",
       "      <th>Salary</th>\n",
       "      <th>Age</th>\n",
       "      <th>Seniority</th>\n",
       "    </tr>\n",
       "  </thead>\n",
       "  <tbody>\n",
       "    <tr>\n",
       "      <th>0</th>\n",
       "      <td>Mami</td>\n",
       "      <td>100.000000</td>\n",
       "      <td>0.419487</td>\n",
       "      <td>-0.145498</td>\n",
       "    </tr>\n",
       "    <tr>\n",
       "      <th>1</th>\n",
       "      <td>Zeynep</td>\n",
       "      <td>1.339594</td>\n",
       "      <td>1.063330</td>\n",
       "      <td>-0.051953</td>\n",
       "    </tr>\n",
       "    <tr>\n",
       "      <th>2</th>\n",
       "      <td>Atlas</td>\n",
       "      <td>0.343802</td>\n",
       "      <td>0.884805</td>\n",
       "      <td>-0.428439</td>\n",
       "    </tr>\n",
       "    <tr>\n",
       "      <th>3</th>\n",
       "      <td>Ali</td>\n",
       "      <td>-1.662093</td>\n",
       "      <td>0.345113</td>\n",
       "      <td>-0.228517</td>\n",
       "    </tr>\n",
       "  </tbody>\n",
       "</table>\n",
       "</div>"
      ]
     },
     "execution_count": 56,
     "metadata": {},
     "output_type": "execute_result"
    }
   ],
   "execution_count": 56
  },
  {
   "metadata": {
    "ExecuteTime": {
     "end_time": "2025-09-06T12:08:27.051467Z",
     "start_time": "2025-09-06T12:08:27.042990Z"
    }
   },
   "cell_type": "code",
   "source": "reset_frame.loc[0]",
   "id": "16ea20b3450d29af",
   "outputs": [
    {
     "data": {
      "text/plain": [
       "index            Mami\n",
       "Salary          100.0\n",
       "Age          0.419487\n",
       "Seniority   -0.145498\n",
       "Name: 0, dtype: object"
      ]
     },
     "execution_count": 57,
     "metadata": {},
     "output_type": "execute_result"
    }
   ],
   "execution_count": 57
  },
  {
   "metadata": {
    "ExecuteTime": {
     "end_time": "2025-09-06T12:09:27.073182Z",
     "start_time": "2025-09-06T12:09:27.069748Z"
    }
   },
   "cell_type": "code",
   "source": "new_indices = [\"Mam\",\"Zey\",\"Atlas\",\"Al\"]",
   "id": "e2b0ba66e53b5b6d",
   "outputs": [],
   "execution_count": 58
  },
  {
   "metadata": {
    "ExecuteTime": {
     "end_time": "2025-09-06T12:09:58.259393Z",
     "start_time": "2025-09-06T12:09:58.256556Z"
    }
   },
   "cell_type": "code",
   "source": "new_df[\"NewIndex\"] = new_indices",
   "id": "bb940f82a836d6de",
   "outputs": [],
   "execution_count": 60
  },
  {
   "metadata": {
    "ExecuteTime": {
     "end_time": "2025-09-06T12:10:04.356810Z",
     "start_time": "2025-09-06T12:10:04.348106Z"
    }
   },
   "cell_type": "code",
   "source": "new_df",
   "id": "22eaf29e1921df3a",
   "outputs": [
    {
     "data": {
      "text/plain": [
       "            Salary       Age  Seniority NewIndex\n",
       "Mami    100.000000  0.419487  -0.145498      Mam\n",
       "Zeynep    1.339594  1.063330  -0.051953      Zey\n",
       "Atlas     0.343802  0.884805  -0.428439    Atlas\n",
       "Ali      -1.662093  0.345113  -0.228517       Al"
      ],
      "text/html": [
       "<div>\n",
       "<style scoped>\n",
       "    .dataframe tbody tr th:only-of-type {\n",
       "        vertical-align: middle;\n",
       "    }\n",
       "\n",
       "    .dataframe tbody tr th {\n",
       "        vertical-align: top;\n",
       "    }\n",
       "\n",
       "    .dataframe thead th {\n",
       "        text-align: right;\n",
       "    }\n",
       "</style>\n",
       "<table border=\"1\" class=\"dataframe\">\n",
       "  <thead>\n",
       "    <tr style=\"text-align: right;\">\n",
       "      <th></th>\n",
       "      <th>Salary</th>\n",
       "      <th>Age</th>\n",
       "      <th>Seniority</th>\n",
       "      <th>NewIndex</th>\n",
       "    </tr>\n",
       "  </thead>\n",
       "  <tbody>\n",
       "    <tr>\n",
       "      <th>Mami</th>\n",
       "      <td>100.000000</td>\n",
       "      <td>0.419487</td>\n",
       "      <td>-0.145498</td>\n",
       "      <td>Mam</td>\n",
       "    </tr>\n",
       "    <tr>\n",
       "      <th>Zeynep</th>\n",
       "      <td>1.339594</td>\n",
       "      <td>1.063330</td>\n",
       "      <td>-0.051953</td>\n",
       "      <td>Zey</td>\n",
       "    </tr>\n",
       "    <tr>\n",
       "      <th>Atlas</th>\n",
       "      <td>0.343802</td>\n",
       "      <td>0.884805</td>\n",
       "      <td>-0.428439</td>\n",
       "      <td>Atlas</td>\n",
       "    </tr>\n",
       "    <tr>\n",
       "      <th>Ali</th>\n",
       "      <td>-1.662093</td>\n",
       "      <td>0.345113</td>\n",
       "      <td>-0.228517</td>\n",
       "      <td>Al</td>\n",
       "    </tr>\n",
       "  </tbody>\n",
       "</table>\n",
       "</div>"
      ]
     },
     "execution_count": 61,
     "metadata": {},
     "output_type": "execute_result"
    }
   ],
   "execution_count": 61
  },
  {
   "metadata": {
    "ExecuteTime": {
     "end_time": "2025-09-06T12:10:42.851826Z",
     "start_time": "2025-09-06T12:10:42.834812Z"
    }
   },
   "cell_type": "code",
   "source": "new_df.set_index(\"NewIndex\", inplace=True)",
   "id": "b9f0bc32085add16",
   "outputs": [],
   "execution_count": 62
  },
  {
   "metadata": {
    "ExecuteTime": {
     "end_time": "2025-09-06T12:10:49.439581Z",
     "start_time": "2025-09-06T12:10:49.421764Z"
    }
   },
   "cell_type": "code",
   "source": "new_df",
   "id": "92f8a64eb4cb2b7e",
   "outputs": [
    {
     "data": {
      "text/plain": [
       "              Salary       Age  Seniority\n",
       "NewIndex                                 \n",
       "Mam       100.000000  0.419487  -0.145498\n",
       "Zey         1.339594  1.063330  -0.051953\n",
       "Atlas       0.343802  0.884805  -0.428439\n",
       "Al         -1.662093  0.345113  -0.228517"
      ],
      "text/html": [
       "<div>\n",
       "<style scoped>\n",
       "    .dataframe tbody tr th:only-of-type {\n",
       "        vertical-align: middle;\n",
       "    }\n",
       "\n",
       "    .dataframe tbody tr th {\n",
       "        vertical-align: top;\n",
       "    }\n",
       "\n",
       "    .dataframe thead th {\n",
       "        text-align: right;\n",
       "    }\n",
       "</style>\n",
       "<table border=\"1\" class=\"dataframe\">\n",
       "  <thead>\n",
       "    <tr style=\"text-align: right;\">\n",
       "      <th></th>\n",
       "      <th>Salary</th>\n",
       "      <th>Age</th>\n",
       "      <th>Seniority</th>\n",
       "    </tr>\n",
       "    <tr>\n",
       "      <th>NewIndex</th>\n",
       "      <th></th>\n",
       "      <th></th>\n",
       "      <th></th>\n",
       "    </tr>\n",
       "  </thead>\n",
       "  <tbody>\n",
       "    <tr>\n",
       "      <th>Mam</th>\n",
       "      <td>100.000000</td>\n",
       "      <td>0.419487</td>\n",
       "      <td>-0.145498</td>\n",
       "    </tr>\n",
       "    <tr>\n",
       "      <th>Zey</th>\n",
       "      <td>1.339594</td>\n",
       "      <td>1.063330</td>\n",
       "      <td>-0.051953</td>\n",
       "    </tr>\n",
       "    <tr>\n",
       "      <th>Atlas</th>\n",
       "      <td>0.343802</td>\n",
       "      <td>0.884805</td>\n",
       "      <td>-0.428439</td>\n",
       "    </tr>\n",
       "    <tr>\n",
       "      <th>Al</th>\n",
       "      <td>-1.662093</td>\n",
       "      <td>0.345113</td>\n",
       "      <td>-0.228517</td>\n",
       "    </tr>\n",
       "  </tbody>\n",
       "</table>\n",
       "</div>"
      ]
     },
     "execution_count": 63,
     "metadata": {},
     "output_type": "execute_result"
    }
   ],
   "execution_count": 63
  },
  {
   "metadata": {
    "ExecuteTime": {
     "end_time": "2025-09-06T12:11:16.906724Z",
     "start_time": "2025-09-06T12:11:16.901518Z"
    }
   },
   "cell_type": "code",
   "source": "new_df.loc[\"Zey\"]",
   "id": "6e390233fb6d26ec",
   "outputs": [
    {
     "data": {
      "text/plain": [
       "Salary       1.339594\n",
       "Age          1.063330\n",
       "Seniority   -0.051953\n",
       "Name: Zey, dtype: float64"
      ]
     },
     "execution_count": 65,
     "metadata": {},
     "output_type": "execute_result"
    }
   ],
   "execution_count": 65
  },
  {
   "metadata": {
    "ExecuteTime": {
     "end_time": "2025-09-06T12:11:36.560944Z",
     "start_time": "2025-09-06T12:11:36.556961Z"
    }
   },
   "cell_type": "code",
   "source": "# multi index",
   "id": "e32440425686857c",
   "outputs": [],
   "execution_count": 66
  },
  {
   "metadata": {
    "ExecuteTime": {
     "end_time": "2025-09-06T12:12:13.334795Z",
     "start_time": "2025-09-06T12:12:13.329542Z"
    }
   },
   "cell_type": "code",
   "source": "first_index = [\"Simpson\",\"Simpson\",\"Simpson\",\"South Park\",\"South Park\",\"South Park\"]",
   "id": "a7a3c029362ace19",
   "outputs": [],
   "execution_count": 67
  },
  {
   "metadata": {
    "ExecuteTime": {
     "end_time": "2025-09-06T12:12:53.436789Z",
     "start_time": "2025-09-06T12:12:53.431680Z"
    }
   },
   "cell_type": "code",
   "source": "inner_index = [\"Homer\", \"Bart\", \"Marge\", \"Cartman\", \"Kenny\", \"Kyle\"]",
   "id": "213534ff4110beb5",
   "outputs": [],
   "execution_count": 68
  },
  {
   "metadata": {
    "ExecuteTime": {
     "end_time": "2025-09-06T12:13:08.874195Z",
     "start_time": "2025-09-06T12:13:08.869427Z"
    }
   },
   "cell_type": "code",
   "source": "zipped_index = list(zip(first_index, inner_index))",
   "id": "4f35a54f21d68ecf",
   "outputs": [],
   "execution_count": 69
  },
  {
   "metadata": {
    "ExecuteTime": {
     "end_time": "2025-09-06T12:13:14.302023Z",
     "start_time": "2025-09-06T12:13:14.294544Z"
    }
   },
   "cell_type": "code",
   "source": "zipped_index",
   "id": "47a90fe550fece78",
   "outputs": [
    {
     "data": {
      "text/plain": [
       "[('Simpson', 'Homer'),\n",
       " ('Simpson', 'Bart'),\n",
       " ('Simpson', 'Marge'),\n",
       " ('South Park', 'Cartman'),\n",
       " ('South Park', 'Kenny'),\n",
       " ('South Park', 'Kyle')]"
      ]
     },
     "execution_count": 70,
     "metadata": {},
     "output_type": "execute_result"
    }
   ],
   "execution_count": 70
  },
  {
   "metadata": {
    "ExecuteTime": {
     "end_time": "2025-09-06T12:14:09.352547Z",
     "start_time": "2025-09-06T12:14:09.250677Z"
    }
   },
   "cell_type": "code",
   "source": "zipped_index = pd.MultiIndex.from_tuples(zipped_index)",
   "id": "fff79b4ceb5986d6",
   "outputs": [],
   "execution_count": 71
  },
  {
   "metadata": {
    "ExecuteTime": {
     "end_time": "2025-09-06T12:14:11.885404Z",
     "start_time": "2025-09-06T12:14:11.879077Z"
    }
   },
   "cell_type": "code",
   "source": "zipped_index",
   "id": "9251010ed868d8e1",
   "outputs": [
    {
     "data": {
      "text/plain": [
       "MultiIndex([(   'Simpson',   'Homer'),\n",
       "            (   'Simpson',    'Bart'),\n",
       "            (   'Simpson',   'Marge'),\n",
       "            ('South Park', 'Cartman'),\n",
       "            ('South Park',   'Kenny'),\n",
       "            ('South Park',    'Kyle')],\n",
       "           )"
      ]
     },
     "execution_count": 72,
     "metadata": {},
     "output_type": "execute_result"
    }
   ],
   "execution_count": 72
  },
  {
   "metadata": {
    "ExecuteTime": {
     "end_time": "2025-09-06T12:14:31.468932Z",
     "start_time": "2025-09-06T12:14:31.462927Z"
    }
   },
   "cell_type": "code",
   "source": "sample_values = np.ones((6,2))",
   "id": "32958f25c96adb88",
   "outputs": [],
   "execution_count": 73
  },
  {
   "metadata": {
    "ExecuteTime": {
     "end_time": "2025-09-06T12:15:03.765416Z",
     "start_time": "2025-09-06T12:15:03.760645Z"
    }
   },
   "cell_type": "code",
   "source": "big_df = pd.DataFrame(sample_values, index = zipped_index, columns=[\"Age\", \"Salary\"])",
   "id": "f7b68f5b60efc117",
   "outputs": [],
   "execution_count": 74
  },
  {
   "metadata": {
    "ExecuteTime": {
     "end_time": "2025-09-06T12:15:07.803738Z",
     "start_time": "2025-09-06T12:15:07.788363Z"
    }
   },
   "cell_type": "code",
   "source": "big_df",
   "id": "204066bdf1a53253",
   "outputs": [
    {
     "data": {
      "text/plain": [
       "                    Age  Salary\n",
       "Simpson    Homer    1.0     1.0\n",
       "           Bart     1.0     1.0\n",
       "           Marge    1.0     1.0\n",
       "South Park Cartman  1.0     1.0\n",
       "           Kenny    1.0     1.0\n",
       "           Kyle     1.0     1.0"
      ],
      "text/html": [
       "<div>\n",
       "<style scoped>\n",
       "    .dataframe tbody tr th:only-of-type {\n",
       "        vertical-align: middle;\n",
       "    }\n",
       "\n",
       "    .dataframe tbody tr th {\n",
       "        vertical-align: top;\n",
       "    }\n",
       "\n",
       "    .dataframe thead th {\n",
       "        text-align: right;\n",
       "    }\n",
       "</style>\n",
       "<table border=\"1\" class=\"dataframe\">\n",
       "  <thead>\n",
       "    <tr style=\"text-align: right;\">\n",
       "      <th></th>\n",
       "      <th></th>\n",
       "      <th>Age</th>\n",
       "      <th>Salary</th>\n",
       "    </tr>\n",
       "  </thead>\n",
       "  <tbody>\n",
       "    <tr>\n",
       "      <th rowspan=\"3\" valign=\"top\">Simpson</th>\n",
       "      <th>Homer</th>\n",
       "      <td>1.0</td>\n",
       "      <td>1.0</td>\n",
       "    </tr>\n",
       "    <tr>\n",
       "      <th>Bart</th>\n",
       "      <td>1.0</td>\n",
       "      <td>1.0</td>\n",
       "    </tr>\n",
       "    <tr>\n",
       "      <th>Marge</th>\n",
       "      <td>1.0</td>\n",
       "      <td>1.0</td>\n",
       "    </tr>\n",
       "    <tr>\n",
       "      <th rowspan=\"3\" valign=\"top\">South Park</th>\n",
       "      <th>Cartman</th>\n",
       "      <td>1.0</td>\n",
       "      <td>1.0</td>\n",
       "    </tr>\n",
       "    <tr>\n",
       "      <th>Kenny</th>\n",
       "      <td>1.0</td>\n",
       "      <td>1.0</td>\n",
       "    </tr>\n",
       "    <tr>\n",
       "      <th>Kyle</th>\n",
       "      <td>1.0</td>\n",
       "      <td>1.0</td>\n",
       "    </tr>\n",
       "  </tbody>\n",
       "</table>\n",
       "</div>"
      ]
     },
     "execution_count": 75,
     "metadata": {},
     "output_type": "execute_result"
    }
   ],
   "execution_count": 75
  },
  {
   "metadata": {
    "ExecuteTime": {
     "end_time": "2025-09-06T12:15:31.305959Z",
     "start_time": "2025-09-06T12:15:31.298587Z"
    }
   },
   "cell_type": "code",
   "source": "big_df[\"Age\"]",
   "id": "d1e00676029d93b6",
   "outputs": [
    {
     "data": {
      "text/plain": [
       "Simpson     Homer      1.0\n",
       "            Bart       1.0\n",
       "            Marge      1.0\n",
       "South Park  Cartman    1.0\n",
       "            Kenny      1.0\n",
       "            Kyle       1.0\n",
       "Name: Age, dtype: float64"
      ]
     },
     "execution_count": 76,
     "metadata": {},
     "output_type": "execute_result"
    }
   ],
   "execution_count": 76
  },
  {
   "metadata": {
    "ExecuteTime": {
     "end_time": "2025-09-06T12:15:59.146851Z",
     "start_time": "2025-09-06T12:15:59.075484Z"
    }
   },
   "cell_type": "code",
   "source": "big_df.loc[\"Simpson\"]",
   "id": "785d7b22c73af994",
   "outputs": [
    {
     "data": {
      "text/plain": [
       "       Age  Salary\n",
       "Homer  1.0     1.0\n",
       "Bart   1.0     1.0\n",
       "Marge  1.0     1.0"
      ],
      "text/html": [
       "<div>\n",
       "<style scoped>\n",
       "    .dataframe tbody tr th:only-of-type {\n",
       "        vertical-align: middle;\n",
       "    }\n",
       "\n",
       "    .dataframe tbody tr th {\n",
       "        vertical-align: top;\n",
       "    }\n",
       "\n",
       "    .dataframe thead th {\n",
       "        text-align: right;\n",
       "    }\n",
       "</style>\n",
       "<table border=\"1\" class=\"dataframe\">\n",
       "  <thead>\n",
       "    <tr style=\"text-align: right;\">\n",
       "      <th></th>\n",
       "      <th>Age</th>\n",
       "      <th>Salary</th>\n",
       "    </tr>\n",
       "  </thead>\n",
       "  <tbody>\n",
       "    <tr>\n",
       "      <th>Homer</th>\n",
       "      <td>1.0</td>\n",
       "      <td>1.0</td>\n",
       "    </tr>\n",
       "    <tr>\n",
       "      <th>Bart</th>\n",
       "      <td>1.0</td>\n",
       "      <td>1.0</td>\n",
       "    </tr>\n",
       "    <tr>\n",
       "      <th>Marge</th>\n",
       "      <td>1.0</td>\n",
       "      <td>1.0</td>\n",
       "    </tr>\n",
       "  </tbody>\n",
       "</table>\n",
       "</div>"
      ]
     },
     "execution_count": 78,
     "metadata": {},
     "output_type": "execute_result"
    }
   ],
   "execution_count": 78
  },
  {
   "metadata": {
    "ExecuteTime": {
     "end_time": "2025-09-06T12:16:07.424640Z",
     "start_time": "2025-09-06T12:16:07.413527Z"
    }
   },
   "cell_type": "code",
   "source": "big_df.loc[\"Simpson\"].loc[\"Homer\"]",
   "id": "3f2f396285fd83b2",
   "outputs": [
    {
     "data": {
      "text/plain": [
       "Age       1.0\n",
       "Salary    1.0\n",
       "Name: Homer, dtype: float64"
      ]
     },
     "execution_count": 79,
     "metadata": {},
     "output_type": "execute_result"
    }
   ],
   "execution_count": 79
  }
 ],
 "metadata": {
  "kernelspec": {
   "display_name": "Python 3",
   "language": "python",
   "name": "python3"
  },
  "language_info": {
   "codemirror_mode": {
    "name": "ipython",
    "version": 2
   },
   "file_extension": ".py",
   "mimetype": "text/x-python",
   "name": "python",
   "nbconvert_exporter": "python",
   "pygments_lexer": "ipython2",
   "version": "2.7.6"
  }
 },
 "nbformat": 4,
 "nbformat_minor": 5
}
