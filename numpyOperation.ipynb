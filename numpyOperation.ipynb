{
 "cells": [
  {
   "cell_type": "code",
   "id": "initial_id",
   "metadata": {
    "collapsed": true,
    "ExecuteTime": {
     "end_time": "2025-09-06T11:07:47.803390Z",
     "start_time": "2025-09-06T11:07:46.199291Z"
    }
   },
   "source": "import numpy as np",
   "outputs": [],
   "execution_count": 1
  },
  {
   "metadata": {
    "ExecuteTime": {
     "end_time": "2025-09-06T11:08:44.350192Z",
     "start_time": "2025-09-06T11:08:42.696475Z"
    }
   },
   "cell_type": "code",
   "source": "new_array = np.random.randint(1,100,20)",
   "id": "adbda45eedb0e1aa",
   "outputs": [],
   "execution_count": 2
  },
  {
   "metadata": {
    "ExecuteTime": {
     "end_time": "2025-09-06T11:08:46.421391Z",
     "start_time": "2025-09-06T11:08:46.397588Z"
    }
   },
   "cell_type": "code",
   "source": "new_array",
   "id": "56d44f7417360b46",
   "outputs": [
    {
     "data": {
      "text/plain": [
       "array([45, 25,  3, 46, 97, 85, 96, 43, 86, 98, 73, 35, 91, 32, 26, 20, 49,\n",
       "       14, 83,  5], dtype=int32)"
      ]
     },
     "execution_count": 3,
     "metadata": {},
     "output_type": "execute_result"
    }
   ],
   "execution_count": 3
  },
  {
   "metadata": {
    "ExecuteTime": {
     "end_time": "2025-09-06T11:08:51.848922Z",
     "start_time": "2025-09-06T11:08:51.821866Z"
    }
   },
   "cell_type": "code",
   "source": "new_array > 25",
   "id": "6d51c82244b539a4",
   "outputs": [
    {
     "data": {
      "text/plain": [
       "array([ True, False, False,  True,  True,  True,  True,  True,  True,\n",
       "        True,  True,  True,  True,  True,  True, False,  True, False,\n",
       "        True, False])"
      ]
     },
     "execution_count": 4,
     "metadata": {},
     "output_type": "execute_result"
    }
   ],
   "execution_count": 4
  },
  {
   "metadata": {
    "ExecuteTime": {
     "end_time": "2025-09-06T11:09:14.936464Z",
     "start_time": "2025-09-06T11:09:14.769726Z"
    }
   },
   "cell_type": "code",
   "source": "new_array[new_array > 25]",
   "id": "f5da5def8fb7a26a",
   "outputs": [
    {
     "data": {
      "text/plain": [
       "array([45, 46, 97, 85, 96, 43, 86, 98, 73, 35, 91, 32, 26, 49, 83],\n",
       "      dtype=int32)"
      ]
     },
     "execution_count": 5,
     "metadata": {},
     "output_type": "execute_result"
    }
   ],
   "execution_count": 5
  },
  {
   "metadata": {
    "ExecuteTime": {
     "end_time": "2025-09-06T11:09:25.238513Z",
     "start_time": "2025-09-06T11:09:25.229871Z"
    }
   },
   "cell_type": "code",
   "source": "new_array[new_array < 25]",
   "id": "b15d85452b7c4dc5",
   "outputs": [
    {
     "data": {
      "text/plain": [
       "array([ 3, 20, 14,  5], dtype=int32)"
      ]
     },
     "execution_count": 6,
     "metadata": {},
     "output_type": "execute_result"
    }
   ],
   "execution_count": 6
  },
  {
   "metadata": {
    "ExecuteTime": {
     "end_time": "2025-09-06T11:09:48.399449Z",
     "start_time": "2025-09-06T11:09:48.393751Z"
    }
   },
   "cell_type": "code",
   "source": "# transpose & reshape",
   "id": "c503b07b39835a99",
   "outputs": [],
   "execution_count": 7
  },
  {
   "metadata": {
    "ExecuteTime": {
     "end_time": "2025-09-06T11:10:37.409381Z",
     "start_time": "2025-09-06T11:10:37.401185Z"
    }
   },
   "cell_type": "code",
   "source": "matrix_array = np.array([[10,20],[20,30],[30,40]])",
   "id": "dc53d87cfe80eee",
   "outputs": [],
   "execution_count": 10
  },
  {
   "metadata": {
    "ExecuteTime": {
     "end_time": "2025-09-06T11:10:38.712034Z",
     "start_time": "2025-09-06T11:10:38.701859Z"
    }
   },
   "cell_type": "code",
   "source": "matrix_array",
   "id": "a7dcffa0d850e3a2",
   "outputs": [
    {
     "data": {
      "text/plain": [
       "array([[10, 20],\n",
       "       [20, 30],\n",
       "       [30, 40]])"
      ]
     },
     "execution_count": 11,
     "metadata": {},
     "output_type": "execute_result"
    }
   ],
   "execution_count": 11
  },
  {
   "metadata": {
    "ExecuteTime": {
     "end_time": "2025-09-06T11:10:49.801470Z",
     "start_time": "2025-09-06T11:10:49.792621Z"
    }
   },
   "cell_type": "code",
   "source": "matrix_array.shape",
   "id": "8b29cc6e242da7db",
   "outputs": [
    {
     "data": {
      "text/plain": [
       "(3, 2)"
      ]
     },
     "execution_count": 12,
     "metadata": {},
     "output_type": "execute_result"
    }
   ],
   "execution_count": 12
  },
  {
   "metadata": {
    "ExecuteTime": {
     "end_time": "2025-09-06T11:10:57.860293Z",
     "start_time": "2025-09-06T11:10:57.809177Z"
    }
   },
   "cell_type": "code",
   "source": "matrix_array.transpose()",
   "id": "325fe09b8d0ea8b9",
   "outputs": [
    {
     "data": {
      "text/plain": [
       "array([[10, 20, 30],\n",
       "       [20, 30, 40]])"
      ]
     },
     "execution_count": 13,
     "metadata": {},
     "output_type": "execute_result"
    }
   ],
   "execution_count": 13
  },
  {
   "metadata": {
    "ExecuteTime": {
     "end_time": "2025-09-06T11:11:15.687868Z",
     "start_time": "2025-09-06T11:11:15.680122Z"
    }
   },
   "cell_type": "code",
   "source": "matrix_array.T",
   "id": "c7369a70a6888c0",
   "outputs": [
    {
     "data": {
      "text/plain": [
       "array([[10, 20, 30],\n",
       "       [20, 30, 40]])"
      ]
     },
     "execution_count": 14,
     "metadata": {},
     "output_type": "execute_result"
    }
   ],
   "execution_count": 14
  },
  {
   "metadata": {
    "ExecuteTime": {
     "end_time": "2025-09-06T11:11:43.204541Z",
     "start_time": "2025-09-06T11:11:42.735072Z"
    }
   },
   "cell_type": "code",
   "source": "random_array = np.random.random((6,1))",
   "id": "1c93095a23440b34",
   "outputs": [],
   "execution_count": 15
  },
  {
   "metadata": {
    "ExecuteTime": {
     "end_time": "2025-09-06T11:11:46.732715Z",
     "start_time": "2025-09-06T11:11:46.728322Z"
    }
   },
   "cell_type": "code",
   "source": "random_array",
   "id": "1e13265e2758faf2",
   "outputs": [
    {
     "data": {
      "text/plain": [
       "array([[0.93242111],\n",
       "       [0.521996  ],\n",
       "       [0.74730936],\n",
       "       [0.69074985],\n",
       "       [0.17343144],\n",
       "       [0.48853252]])"
      ]
     },
     "execution_count": 16,
     "metadata": {},
     "output_type": "execute_result"
    }
   ],
   "execution_count": 16
  },
  {
   "metadata": {
    "ExecuteTime": {
     "end_time": "2025-09-06T11:11:55.792809Z",
     "start_time": "2025-09-06T11:11:55.786830Z"
    }
   },
   "cell_type": "code",
   "source": "random_array.shape",
   "id": "71b511c14e2fa101",
   "outputs": [
    {
     "data": {
      "text/plain": [
       "(6, 1)"
      ]
     },
     "execution_count": 17,
     "metadata": {},
     "output_type": "execute_result"
    }
   ],
   "execution_count": 17
  },
  {
   "metadata": {
    "ExecuteTime": {
     "end_time": "2025-09-06T11:12:06.992682Z",
     "start_time": "2025-09-06T11:12:06.959358Z"
    }
   },
   "cell_type": "code",
   "source": "random_array.reshape(2,3)",
   "id": "57c97e07798485c3",
   "outputs": [
    {
     "data": {
      "text/plain": [
       "array([[0.93242111, 0.521996  , 0.74730936],\n",
       "       [0.69074985, 0.17343144, 0.48853252]])"
      ]
     },
     "execution_count": 18,
     "metadata": {},
     "output_type": "execute_result"
    }
   ],
   "execution_count": 18
  },
  {
   "metadata": {
    "ExecuteTime": {
     "end_time": "2025-09-06T11:12:15.114047Z",
     "start_time": "2025-09-06T11:12:15.106147Z"
    }
   },
   "cell_type": "code",
   "source": "random_array.reshape(3,2)",
   "id": "b5048c62e8b79db9",
   "outputs": [
    {
     "data": {
      "text/plain": [
       "array([[0.93242111, 0.521996  ],\n",
       "       [0.74730936, 0.69074985],\n",
       "       [0.17343144, 0.48853252]])"
      ]
     },
     "execution_count": 19,
     "metadata": {},
     "output_type": "execute_result"
    }
   ],
   "execution_count": 19
  },
  {
   "metadata": {
    "ExecuteTime": {
     "end_time": "2025-09-06T11:12:38.194803Z",
     "start_time": "2025-09-06T11:12:38.189853Z"
    }
   },
   "cell_type": "code",
   "source": "# z-score",
   "id": "c13c993ca8f3285e",
   "outputs": [],
   "execution_count": 20
  },
  {
   "metadata": {
    "ExecuteTime": {
     "end_time": "2025-09-06T11:12:53.631644Z",
     "start_time": "2025-09-06T11:12:53.627698Z"
    }
   },
   "cell_type": "code",
   "source": "data = np.array([10,12,13,15,18,25,100,105])",
   "id": "2c8727eb6bf9ba2c",
   "outputs": [],
   "execution_count": 21
  },
  {
   "metadata": {
    "ExecuteTime": {
     "end_time": "2025-09-06T11:13:14.503913Z",
     "start_time": "2025-09-06T11:13:14.500365Z"
    }
   },
   "cell_type": "code",
   "source": "#outlier",
   "id": "be54bbb38fca3925",
   "outputs": [],
   "execution_count": 22
  },
  {
   "metadata": {
    "ExecuteTime": {
     "end_time": "2025-09-06T11:13:31.055789Z",
     "start_time": "2025-09-06T11:13:30.849143Z"
    }
   },
   "cell_type": "code",
   "source": "mean = np.mean(data)",
   "id": "70a442c467e25ede",
   "outputs": [],
   "execution_count": 23
  },
  {
   "metadata": {
    "ExecuteTime": {
     "end_time": "2025-09-06T11:13:33.590268Z",
     "start_time": "2025-09-06T11:13:33.584452Z"
    }
   },
   "cell_type": "code",
   "source": "mean",
   "id": "a3023c0893b8c67e",
   "outputs": [
    {
     "data": {
      "text/plain": [
       "np.float64(37.25)"
      ]
     },
     "execution_count": 24,
     "metadata": {},
     "output_type": "execute_result"
    }
   ],
   "execution_count": 24
  },
  {
   "metadata": {
    "ExecuteTime": {
     "end_time": "2025-09-06T11:13:45.915174Z",
     "start_time": "2025-09-06T11:13:45.896537Z"
    }
   },
   "cell_type": "code",
   "source": "data.sum()/len(data)",
   "id": "e7a4fdf0bfec493b",
   "outputs": [
    {
     "data": {
      "text/plain": [
       "np.float64(37.25)"
      ]
     },
     "execution_count": 25,
     "metadata": {},
     "output_type": "execute_result"
    }
   ],
   "execution_count": 25
  },
  {
   "metadata": {
    "ExecuteTime": {
     "end_time": "2025-09-06T11:13:54.901609Z",
     "start_time": "2025-09-06T11:13:54.166520Z"
    }
   },
   "cell_type": "code",
   "source": "std = np.std(data)",
   "id": "b7a279cefe1e00f2",
   "outputs": [],
   "execution_count": 26
  },
  {
   "metadata": {
    "ExecuteTime": {
     "end_time": "2025-09-06T11:13:57.265591Z",
     "start_time": "2025-09-06T11:13:57.258569Z"
    }
   },
   "cell_type": "code",
   "source": "std",
   "id": "477a0429b8abe537",
   "outputs": [
    {
     "data": {
      "text/plain": [
       "np.float64(37.9333296719389)"
      ]
     },
     "execution_count": 27,
     "metadata": {},
     "output_type": "execute_result"
    }
   ],
   "execution_count": 27
  },
  {
   "metadata": {
    "ExecuteTime": {
     "end_time": "2025-09-06T11:14:56.734177Z",
     "start_time": "2025-09-06T11:14:56.731302Z"
    }
   },
   "cell_type": "code",
   "source": "z_scores = (data -mean) / std",
   "id": "ce9325914de2c4de",
   "outputs": [],
   "execution_count": 31
  },
  {
   "metadata": {
    "ExecuteTime": {
     "end_time": "2025-09-06T11:14:57.066631Z",
     "start_time": "2025-09-06T11:14:57.062053Z"
    }
   },
   "cell_type": "code",
   "source": "z_scores",
   "id": "1b5f58d5a513c122",
   "outputs": [
    {
     "data": {
      "text/plain": [
       "array([-0.71836562, -0.66564154, -0.6392795 , -0.58655542, -0.50746929,\n",
       "       -0.322935  ,  1.65421809,  1.78602829])"
      ]
     },
     "execution_count": 32,
     "metadata": {},
     "output_type": "execute_result"
    }
   ],
   "execution_count": 32
  },
  {
   "metadata": {
    "ExecuteTime": {
     "end_time": "2025-09-06T11:15:02.722367Z",
     "start_time": "2025-09-06T11:15:02.715637Z"
    }
   },
   "cell_type": "code",
   "source": "z_scores[z_scores > 1]",
   "id": "b1374313bfd9ded2",
   "outputs": [
    {
     "data": {
      "text/plain": [
       "array([1.65421809, 1.78602829])"
      ]
     },
     "execution_count": 34,
     "metadata": {},
     "output_type": "execute_result"
    }
   ],
   "execution_count": 34
  },
  {
   "metadata": {
    "ExecuteTime": {
     "end_time": "2025-09-06T11:15:25.849783Z",
     "start_time": "2025-09-06T11:15:25.841076Z"
    }
   },
   "cell_type": "code",
   "source": "data[z_scores > 1]",
   "id": "7031543d35128eb9",
   "outputs": [
    {
     "data": {
      "text/plain": [
       "array([100, 105])"
      ]
     },
     "execution_count": 35,
     "metadata": {},
     "output_type": "execute_result"
    }
   ],
   "execution_count": 35
  },
  {
   "metadata": {
    "ExecuteTime": {
     "end_time": "2025-09-06T11:17:06.457979Z",
     "start_time": "2025-09-06T11:17:06.452532Z"
    }
   },
   "cell_type": "code",
   "source": "#2x+3y = 8 5x+7y = 19",
   "id": "d2178486183eb0c5",
   "outputs": [],
   "execution_count": 38
  },
  {
   "metadata": {
    "ExecuteTime": {
     "end_time": "2025-09-06T11:17:35.208405Z",
     "start_time": "2025-09-06T11:17:35.202479Z"
    }
   },
   "cell_type": "code",
   "source": [
    "#coefficiant\n",
    "A = np.array([[2,3],[5,7]])"
   ],
   "id": "11c648abdc1e14b1",
   "outputs": [],
   "execution_count": 40
  },
  {
   "metadata": {
    "ExecuteTime": {
     "end_time": "2025-09-06T11:17:35.753678Z",
     "start_time": "2025-09-06T11:17:35.748036Z"
    }
   },
   "cell_type": "code",
   "source": [
    "#constant\n",
    "b = np.array([8,19])"
   ],
   "id": "3807e072f4d3ecac",
   "outputs": [],
   "execution_count": 41
  },
  {
   "metadata": {
    "ExecuteTime": {
     "end_time": "2025-09-06T11:17:51.641845Z",
     "start_time": "2025-09-06T11:17:51.437117Z"
    }
   },
   "cell_type": "code",
   "source": "solution = np.linalg.solve(A,b)",
   "id": "e69dc8376598ed22",
   "outputs": [],
   "execution_count": 42
  },
  {
   "metadata": {
    "ExecuteTime": {
     "end_time": "2025-09-06T11:17:55.091151Z",
     "start_time": "2025-09-06T11:17:55.077180Z"
    }
   },
   "cell_type": "code",
   "source": "solution",
   "id": "bb09c03a4c3a2712",
   "outputs": [
    {
     "data": {
      "text/plain": [
       "array([1., 2.])"
      ]
     },
     "execution_count": 43,
     "metadata": {},
     "output_type": "execute_result"
    }
   ],
   "execution_count": 43
  }
 ],
 "metadata": {
  "kernelspec": {
   "display_name": "Python 3",
   "language": "python",
   "name": "python3"
  },
  "language_info": {
   "codemirror_mode": {
    "name": "ipython",
    "version": 2
   },
   "file_extension": ".py",
   "mimetype": "text/x-python",
   "name": "python",
   "nbconvert_exporter": "python",
   "pygments_lexer": "ipython2",
   "version": "2.7.6"
  }
 },
 "nbformat": 4,
 "nbformat_minor": 5
}
