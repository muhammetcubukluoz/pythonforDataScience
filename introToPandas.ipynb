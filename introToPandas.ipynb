{
 "cells": [
  {
   "cell_type": "code",
   "id": "initial_id",
   "metadata": {
    "collapsed": true,
    "ExecuteTime": {
     "end_time": "2025-09-06T11:24:28.295289Z",
     "start_time": "2025-09-06T11:24:27.985151Z"
    }
   },
   "source": [
    "import numpy as np\n",
    "import pandas as pd"
   ],
   "outputs": [],
   "execution_count": 3
  },
  {
   "metadata": {
    "ExecuteTime": {
     "end_time": "2025-09-06T11:27:42.552952Z",
     "start_time": "2025-09-06T11:27:42.548658Z"
    }
   },
   "cell_type": "code",
   "source": "grades  = {\"Mami\": 50,  \"james\":80, \"ali\": 45}",
   "id": "e0d276234de0a377",
   "outputs": [],
   "execution_count": 4
  },
  {
   "metadata": {
    "ExecuteTime": {
     "end_time": "2025-09-06T11:27:57.160194Z",
     "start_time": "2025-09-06T11:27:57.069287Z"
    }
   },
   "cell_type": "code",
   "source": "pd.Series(grades)",
   "id": "40fae8b108f9adf1",
   "outputs": [
    {
     "data": {
      "text/plain": [
       "Mami     50\n",
       "james    80\n",
       "ali      45\n",
       "dtype: int64"
      ]
     },
     "execution_count": 5,
     "metadata": {},
     "output_type": "execute_result"
    }
   ],
   "execution_count": 5
  },
  {
   "metadata": {
    "ExecuteTime": {
     "end_time": "2025-09-06T11:29:38.975666Z",
     "start_time": "2025-09-06T11:29:38.970424Z"
    }
   },
   "cell_type": "code",
   "source": [
    "names = [\"Mami\", \"James\", \"Ali\"]\n",
    "grades = [50,80,45]"
   ],
   "id": "b46fc89bcf4fa581",
   "outputs": [],
   "execution_count": 9
  },
  {
   "metadata": {
    "ExecuteTime": {
     "end_time": "2025-09-06T11:29:40.254314Z",
     "start_time": "2025-09-06T11:29:40.247951Z"
    }
   },
   "cell_type": "code",
   "source": "pd.Series(names)",
   "id": "94c4169b926ebff3",
   "outputs": [
    {
     "data": {
      "text/plain": [
       "0     Mami\n",
       "1    James\n",
       "2      Ali\n",
       "dtype: object"
      ]
     },
     "execution_count": 10,
     "metadata": {},
     "output_type": "execute_result"
    }
   ],
   "execution_count": 10
  },
  {
   "metadata": {},
   "cell_type": "code",
   "source": "pd.Series(grades)",
   "id": "107c1d4341610144",
   "outputs": [
    {
     "data": {
      "text/plain": [
       "0    50\n",
       "1    80\n",
       "2    45\n",
       "dtype: int64"
      ]
     },
     "execution_count": 11,
     "metadata": {},
     "output_type": "execute_result"
    }
   ],
   "execution_count": 11
  },
  {
   "metadata": {
    "ExecuteTime": {
     "end_time": "2025-09-06T11:30:05.242352Z",
     "start_time": "2025-09-06T11:30:05.206680Z"
    }
   },
   "cell_type": "code",
   "source": "pd.Series(grades,names)",
   "id": "47648292ae6bb11d",
   "outputs": [
    {
     "data": {
      "text/plain": [
       "Mami     50\n",
       "James    80\n",
       "Ali      45\n",
       "dtype: int64"
      ]
     },
     "execution_count": 12,
     "metadata": {},
     "output_type": "execute_result"
    }
   ],
   "execution_count": 12
  },
  {
   "metadata": {
    "ExecuteTime": {
     "end_time": "2025-09-06T11:30:28.254Z",
     "start_time": "2025-09-06T11:30:28.248176Z"
    }
   },
   "cell_type": "code",
   "source": "pd.Series(data = grades, index=names)",
   "id": "c0d88a8938c1d56e",
   "outputs": [
    {
     "data": {
      "text/plain": [
       "Mami     50\n",
       "James    80\n",
       "Ali      45\n",
       "dtype: int64"
      ]
     },
     "execution_count": 13,
     "metadata": {},
     "output_type": "execute_result"
    }
   ],
   "execution_count": 13
  },
  {
   "metadata": {
    "ExecuteTime": {
     "end_time": "2025-09-06T11:30:47.142039Z",
     "start_time": "2025-09-06T11:30:47.136621Z"
    }
   },
   "cell_type": "code",
   "source": "# with numpy",
   "id": "9f707facf3c9f9f8",
   "outputs": [],
   "execution_count": 14
  },
  {
   "metadata": {
    "ExecuteTime": {
     "end_time": "2025-09-06T11:31:01.054248Z",
     "start_time": "2025-09-06T11:31:01.049595Z"
    }
   },
   "cell_type": "code",
   "source": "numpy_array = np.array([50,40,30,20])",
   "id": "bbbf677fc46a6190",
   "outputs": [],
   "execution_count": 15
  },
  {
   "metadata": {
    "ExecuteTime": {
     "end_time": "2025-09-06T11:31:24.653796Z",
     "start_time": "2025-09-06T11:31:24.648041Z"
    }
   },
   "cell_type": "code",
   "source": "pd.Series(numpy_array)",
   "id": "7d6fed6294a6ba57",
   "outputs": [
    {
     "data": {
      "text/plain": [
       "0    50\n",
       "1    40\n",
       "2    30\n",
       "3    20\n",
       "dtype: int64"
      ]
     },
     "execution_count": 16,
     "metadata": {},
     "output_type": "execute_result"
    }
   ],
   "execution_count": 16
  },
  {
   "metadata": {
    "ExecuteTime": {
     "end_time": "2025-09-06T11:31:39.584303Z",
     "start_time": "2025-09-06T11:31:39.581016Z"
    }
   },
   "cell_type": "code",
   "source": "#arithmetic",
   "id": "1c3764e516b74fcd",
   "outputs": [],
   "execution_count": 18
  },
  {
   "metadata": {
    "ExecuteTime": {
     "end_time": "2025-09-06T11:32:24.009842Z",
     "start_time": "2025-09-06T11:32:24.005260Z"
    }
   },
   "cell_type": "code",
   "source": "consest_result = pd.Series(data=[10,5,100], index = [\"Mami\",\"James\",\"Ali\"])",
   "id": "d2cdf96352f06917",
   "outputs": [],
   "execution_count": 19
  },
  {
   "metadata": {
    "ExecuteTime": {
     "end_time": "2025-09-06T11:32:45.713491Z",
     "start_time": "2025-09-06T11:32:45.706222Z"
    }
   },
   "cell_type": "code",
   "source": "consest_result2 = pd.Series(data=[20,50,10], index = [\"Mami\",\"James\",\"Ali\"])",
   "id": "a76a8ee3e95582e1",
   "outputs": [],
   "execution_count": 20
  },
  {
   "metadata": {
    "ExecuteTime": {
     "end_time": "2025-09-06T11:32:50.015676Z",
     "start_time": "2025-09-06T11:32:50.009560Z"
    }
   },
   "cell_type": "code",
   "source": "consest_result",
   "id": "3350f19029dfe07a",
   "outputs": [
    {
     "data": {
      "text/plain": [
       "Mami      10\n",
       "James      5\n",
       "Ali      100\n",
       "dtype: int64"
      ]
     },
     "execution_count": 21,
     "metadata": {},
     "output_type": "execute_result"
    }
   ],
   "execution_count": 21
  },
  {
   "metadata": {
    "ExecuteTime": {
     "end_time": "2025-09-06T11:33:09.831881Z",
     "start_time": "2025-09-06T11:33:09.825621Z"
    }
   },
   "cell_type": "code",
   "source": "consest_result[\"Mami\"]",
   "id": "8183273799f453ac",
   "outputs": [
    {
     "data": {
      "text/plain": [
       "np.int64(10)"
      ]
     },
     "execution_count": 22,
     "metadata": {},
     "output_type": "execute_result"
    }
   ],
   "execution_count": 22
  },
  {
   "metadata": {
    "ExecuteTime": {
     "end_time": "2025-09-06T11:33:51.714275Z",
     "start_time": "2025-09-06T11:33:51.561753Z"
    }
   },
   "cell_type": "code",
   "source": "final_result = consest_result + consest_result2",
   "id": "21af7e3e44adc71c",
   "outputs": [],
   "execution_count": 23
  },
  {
   "metadata": {
    "ExecuteTime": {
     "end_time": "2025-09-06T11:33:55.162497Z",
     "start_time": "2025-09-06T11:33:55.150601Z"
    }
   },
   "cell_type": "code",
   "source": "final_result",
   "id": "7b803781dea1880a",
   "outputs": [
    {
     "data": {
      "text/plain": [
       "Mami      30\n",
       "James     55\n",
       "Ali      110\n",
       "dtype: int64"
      ]
     },
     "execution_count": 24,
     "metadata": {},
     "output_type": "execute_result"
    }
   ],
   "execution_count": 24
  },
  {
   "metadata": {
    "ExecuteTime": {
     "end_time": "2025-09-06T11:34:16.319867Z",
     "start_time": "2025-09-06T11:34:16.313692Z"
    }
   },
   "cell_type": "code",
   "source": "consest_result - consest_result2",
   "id": "8c134985256f2e5e",
   "outputs": [
    {
     "data": {
      "text/plain": [
       "Mami    -10\n",
       "James   -45\n",
       "Ali      90\n",
       "dtype: int64"
      ]
     },
     "execution_count": 25,
     "metadata": {},
     "output_type": "execute_result"
    }
   ],
   "execution_count": 25
  },
  {
   "metadata": {
    "ExecuteTime": {
     "end_time": "2025-09-06T11:34:20.706759Z",
     "start_time": "2025-09-06T11:34:20.698586Z"
    }
   },
   "cell_type": "code",
   "source": "consest_result * consest_result2",
   "id": "ecacc7f0ab3820b",
   "outputs": [
    {
     "data": {
      "text/plain": [
       "Mami      200\n",
       "James     250\n",
       "Ali      1000\n",
       "dtype: int64"
      ]
     },
     "execution_count": 26,
     "metadata": {},
     "output_type": "execute_result"
    }
   ],
   "execution_count": 26
  },
  {
   "metadata": {
    "ExecuteTime": {
     "end_time": "2025-09-06T11:34:26.596104Z",
     "start_time": "2025-09-06T11:34:25.915548Z"
    }
   },
   "cell_type": "code",
   "source": "consest_result / consest_result2",
   "id": "d5e78646d489b0b8",
   "outputs": [
    {
     "data": {
      "text/plain": [
       "Mami      0.5\n",
       "James     0.1\n",
       "Ali      10.0\n",
       "dtype: float64"
      ]
     },
     "execution_count": 27,
     "metadata": {},
     "output_type": "execute_result"
    }
   ],
   "execution_count": 27
  },
  {
   "metadata": {
    "ExecuteTime": {
     "end_time": "2025-09-06T11:42:40.050331Z",
     "start_time": "2025-09-06T11:42:40.046837Z"
    }
   },
   "cell_type": "code",
   "source": "different_series = pd.Series([20,30,40,50], [\"a\",\"b\",\"c\",\"d\"])",
   "id": "32e516eb1d104d80",
   "outputs": [],
   "execution_count": 47
  },
  {
   "metadata": {
    "ExecuteTime": {
     "end_time": "2025-09-06T11:42:40.355931Z",
     "start_time": "2025-09-06T11:42:40.351310Z"
    }
   },
   "cell_type": "code",
   "source": "different_series",
   "id": "45ec5179f86a98b5",
   "outputs": [
    {
     "data": {
      "text/plain": [
       "a    20\n",
       "b    30\n",
       "c    40\n",
       "d    50\n",
       "dtype: int64"
      ]
     },
     "execution_count": 48,
     "metadata": {},
     "output_type": "execute_result"
    }
   ],
   "execution_count": 48
  },
  {
   "metadata": {
    "ExecuteTime": {
     "end_time": "2025-09-06T11:42:41.327149Z",
     "start_time": "2025-09-06T11:42:41.323936Z"
    }
   },
   "cell_type": "code",
   "source": "different_series2 = pd.Series([10,5,3,1], [\"a\",\"c\",\"f\",\"g\"])",
   "id": "b65d7fdc6f807633",
   "outputs": [],
   "execution_count": 49
  },
  {
   "metadata": {
    "ExecuteTime": {
     "end_time": "2025-09-06T11:42:41.776695Z",
     "start_time": "2025-09-06T11:42:41.771866Z"
    }
   },
   "cell_type": "code",
   "source": "different_series2",
   "id": "e7ffc5955dcc5f30",
   "outputs": [
    {
     "data": {
      "text/plain": [
       "a    10\n",
       "c     5\n",
       "f     3\n",
       "g     1\n",
       "dtype: int64"
      ]
     },
     "execution_count": 50,
     "metadata": {},
     "output_type": "execute_result"
    }
   ],
   "execution_count": 50
  },
  {
   "metadata": {
    "ExecuteTime": {
     "end_time": "2025-09-06T11:42:42.436321Z",
     "start_time": "2025-09-06T11:42:42.285704Z"
    }
   },
   "cell_type": "code",
   "source": "result = different_series + different_series2",
   "id": "47f9c9bbf928560c",
   "outputs": [],
   "execution_count": 51
  },
  {
   "metadata": {
    "ExecuteTime": {
     "end_time": "2025-09-06T11:42:42.876345Z",
     "start_time": "2025-09-06T11:42:42.871692Z"
    }
   },
   "cell_type": "code",
   "source": "result",
   "id": "67bf6bca02e8a37d",
   "outputs": [
    {
     "data": {
      "text/plain": [
       "a    30.0\n",
       "b     NaN\n",
       "c    45.0\n",
       "d     NaN\n",
       "f     NaN\n",
       "g     NaN\n",
       "dtype: float64"
      ]
     },
     "execution_count": 52,
     "metadata": {},
     "output_type": "execute_result"
    }
   ],
   "execution_count": 52
  },
  {
   "metadata": {},
   "cell_type": "code",
   "outputs": [],
   "execution_count": null,
   "source": "",
   "id": "f982a0d129e2bb1e"
  }
 ],
 "metadata": {
  "kernelspec": {
   "display_name": "Python 3",
   "language": "python",
   "name": "python3"
  },
  "language_info": {
   "codemirror_mode": {
    "name": "ipython",
    "version": 2
   },
   "file_extension": ".py",
   "mimetype": "text/x-python",
   "name": "python",
   "nbconvert_exporter": "python",
   "pygments_lexer": "ipython2",
   "version": "2.7.6"
  }
 },
 "nbformat": 4,
 "nbformat_minor": 5
}
