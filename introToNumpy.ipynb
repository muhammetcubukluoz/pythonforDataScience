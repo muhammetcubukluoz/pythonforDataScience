{
 "cells": [
  {
   "cell_type": "code",
   "id": "initial_id",
   "metadata": {
    "collapsed": true,
    "ExecuteTime": {
     "end_time": "2025-09-05T17:32:44.256416Z",
     "start_time": "2025-09-05T17:32:38.893558Z"
    }
   },
   "source": [
    "!pip install numpy\n",
    "import numpy as np"
   ],
   "outputs": [
    {
     "name": "stdout",
     "output_type": "stream",
     "text": [
      "Requirement already satisfied: numpy in d:\\pycharmprojects\\pythonfordatascience\\.venv\\lib\\site-packages (2.3.2)\n"
     ]
    },
    {
     "name": "stderr",
     "output_type": "stream",
     "text": [
      "\n",
      "[notice] A new release of pip is available: 25.1.1 -> 25.2\n",
      "[notice] To update, run: python.exe -m pip install --upgrade pip\n"
     ]
    }
   ],
   "execution_count": 2
  },
  {
   "metadata": {
    "ExecuteTime": {
     "end_time": "2025-09-05T17:34:50.652452Z",
     "start_time": "2025-09-05T17:34:50.648224Z"
    }
   },
   "cell_type": "code",
   "source": "my_list = [10,20,30,40]",
   "id": "8334303b5bc068e2",
   "outputs": [],
   "execution_count": 3
  },
  {
   "metadata": {
    "ExecuteTime": {
     "end_time": "2025-09-05T17:34:58.177146Z",
     "start_time": "2025-09-05T17:34:58.169237Z"
    }
   },
   "cell_type": "code",
   "source": "type(my_list)",
   "id": "2ebd2e7a0a7ca42c",
   "outputs": [
    {
     "data": {
      "text/plain": [
       "list"
      ]
     },
     "execution_count": 4,
     "metadata": {},
     "output_type": "execute_result"
    }
   ],
   "execution_count": 4
  },
  {
   "metadata": {
    "ExecuteTime": {
     "end_time": "2025-09-05T17:35:59.834102Z",
     "start_time": "2025-09-05T17:35:59.788327Z"
    }
   },
   "cell_type": "code",
   "source": "np.array(my_list)",
   "id": "7ffb260b1cbf8751",
   "outputs": [
    {
     "data": {
      "text/plain": [
       "array([10, 20, 30, 40])"
      ]
     },
     "execution_count": 5,
     "metadata": {},
     "output_type": "execute_result"
    }
   ],
   "execution_count": 5
  },
  {
   "metadata": {
    "ExecuteTime": {
     "end_time": "2025-09-05T17:36:34.385659Z",
     "start_time": "2025-09-05T17:36:34.382252Z"
    }
   },
   "cell_type": "code",
   "source": "my_numpy_array = np.array(my_list)",
   "id": "de2def2ac826078d",
   "outputs": [],
   "execution_count": 6
  },
  {
   "metadata": {
    "ExecuteTime": {
     "end_time": "2025-09-05T17:36:54.287669Z",
     "start_time": "2025-09-05T17:36:54.281828Z"
    }
   },
   "cell_type": "code",
   "source": "type(my_numpy_array)",
   "id": "26256085bc160bc1",
   "outputs": [
    {
     "data": {
      "text/plain": [
       "numpy.ndarray"
      ]
     },
     "execution_count": 7,
     "metadata": {},
     "output_type": "execute_result"
    }
   ],
   "execution_count": 7
  },
  {
   "metadata": {
    "ExecuteTime": {
     "end_time": "2025-09-05T17:38:30.730757Z",
     "start_time": "2025-09-05T17:38:30.726190Z"
    }
   },
   "cell_type": "code",
   "source": "print(my_numpy_array.max())",
   "id": "7505cabb9716561b",
   "outputs": [
    {
     "name": "stdout",
     "output_type": "stream",
     "text": [
      "40\n"
     ]
    }
   ],
   "execution_count": 9
  },
  {
   "metadata": {
    "ExecuteTime": {
     "end_time": "2025-09-05T17:39:21.909617Z",
     "start_time": "2025-09-05T17:39:21.495096Z"
    }
   },
   "cell_type": "code",
   "source": "np.ones(5)",
   "id": "95d36eafeb631f3d",
   "outputs": [
    {
     "data": {
      "text/plain": [
       "array([1., 1., 1., 1., 1.])"
      ]
     },
     "execution_count": 10,
     "metadata": {},
     "output_type": "execute_result"
    }
   ],
   "execution_count": 10
  },
  {
   "metadata": {
    "ExecuteTime": {
     "end_time": "2025-09-05T17:39:28.008897Z",
     "start_time": "2025-09-05T17:39:28.002971Z"
    }
   },
   "cell_type": "code",
   "source": "np.zeros(5)",
   "id": "31fc4d4564dd1b51",
   "outputs": [
    {
     "data": {
      "text/plain": [
       "array([0., 0., 0., 0., 0.])"
      ]
     },
     "execution_count": 11,
     "metadata": {},
     "output_type": "execute_result"
    }
   ],
   "execution_count": 11
  },
  {
   "metadata": {
    "ExecuteTime": {
     "end_time": "2025-09-05T17:39:40.024498Z",
     "start_time": "2025-09-05T17:39:40.018560Z"
    }
   },
   "cell_type": "code",
   "source": "np.random.random(4)",
   "id": "a9573af46cb1af50",
   "outputs": [
    {
     "data": {
      "text/plain": [
       "array([0.148005  , 0.174293  , 0.47435545, 0.6473382 ])"
      ]
     },
     "execution_count": 13,
     "metadata": {},
     "output_type": "execute_result"
    }
   ],
   "execution_count": 13
  },
  {
   "metadata": {
    "ExecuteTime": {
     "end_time": "2025-09-05T17:41:01.397582Z",
     "start_time": "2025-09-05T17:41:01.394734Z"
    }
   },
   "cell_type": "code",
   "source": "my_list1 = [1,2]",
   "id": "466b301b6ceaf0b0",
   "outputs": [],
   "execution_count": 16
  },
  {
   "metadata": {
    "ExecuteTime": {
     "end_time": "2025-09-05T17:41:02.299265Z",
     "start_time": "2025-09-05T17:41:02.295546Z"
    }
   },
   "cell_type": "code",
   "source": "my_list2 = [2,3]",
   "id": "93c604b8defac676",
   "outputs": [],
   "execution_count": 17
  },
  {
   "metadata": {
    "ExecuteTime": {
     "end_time": "2025-09-05T17:41:08.339847Z",
     "start_time": "2025-09-05T17:41:08.331470Z"
    }
   },
   "cell_type": "code",
   "source": "my_list1+my_list2",
   "id": "e80035d2e5eab6d6",
   "outputs": [
    {
     "data": {
      "text/plain": [
       "[1, 2, 2, 3]"
      ]
     },
     "execution_count": 18,
     "metadata": {},
     "output_type": "execute_result"
    }
   ],
   "execution_count": 18
  },
  {
   "metadata": {
    "ExecuteTime": {
     "end_time": "2025-09-05T17:41:41.411223Z",
     "start_time": "2025-09-05T17:41:41.407665Z"
    }
   },
   "cell_type": "code",
   "source": "my_numpy_array1 = np.array(my_list1)",
   "id": "26eb5cffedd3a150",
   "outputs": [],
   "execution_count": 20
  },
  {
   "metadata": {
    "ExecuteTime": {
     "end_time": "2025-09-05T17:42:18.311095Z",
     "start_time": "2025-09-05T17:42:18.306742Z"
    }
   },
   "cell_type": "code",
   "source": "my_numpy_array2 = np.array(my_list2)",
   "id": "c950329e802359eb",
   "outputs": [],
   "execution_count": 23
  },
  {
   "metadata": {
    "ExecuteTime": {
     "end_time": "2025-09-05T17:42:18.839996Z",
     "start_time": "2025-09-05T17:42:18.835051Z"
    }
   },
   "cell_type": "code",
   "source": "my_numpy_array1 + my_numpy_array2",
   "id": "96bb94eedbc11802",
   "outputs": [
    {
     "data": {
      "text/plain": [
       "array([3, 5])"
      ]
     },
     "execution_count": 24,
     "metadata": {},
     "output_type": "execute_result"
    }
   ],
   "execution_count": 24
  },
  {
   "metadata": {
    "ExecuteTime": {
     "end_time": "2025-09-05T17:45:27.699010Z",
     "start_time": "2025-09-05T17:45:27.587203Z"
    }
   },
   "cell_type": "code",
   "source": "my_numpy_array1 * my_numpy_array2",
   "id": "9b106af3222d5cf8",
   "outputs": [
    {
     "data": {
      "text/plain": [
       "array([2, 6])"
      ]
     },
     "execution_count": 25,
     "metadata": {},
     "output_type": "execute_result"
    }
   ],
   "execution_count": 25
  },
  {
   "metadata": {
    "ExecuteTime": {
     "end_time": "2025-09-05T17:45:31.987726Z",
     "start_time": "2025-09-05T17:45:31.983239Z"
    }
   },
   "cell_type": "code",
   "source": "my_numpy_array1 - my_numpy_array2",
   "id": "a5d9900d691d98ce",
   "outputs": [
    {
     "data": {
      "text/plain": [
       "array([-1, -1])"
      ]
     },
     "execution_count": 26,
     "metadata": {},
     "output_type": "execute_result"
    }
   ],
   "execution_count": 26
  },
  {
   "metadata": {
    "ExecuteTime": {
     "end_time": "2025-09-05T17:45:37.054402Z",
     "start_time": "2025-09-05T17:45:36.939931Z"
    }
   },
   "cell_type": "code",
   "source": "my_numpy_array1 / my_numpy_array2",
   "id": "e9d7edc13ebb7113",
   "outputs": [
    {
     "data": {
      "text/plain": [
       "array([0.5       , 0.66666667])"
      ]
     },
     "execution_count": 27,
     "metadata": {},
     "output_type": "execute_result"
    }
   ],
   "execution_count": 27
  },
  {
   "metadata": {
    "ExecuteTime": {
     "end_time": "2025-09-05T17:45:45.133266Z",
     "start_time": "2025-09-05T17:45:45.126183Z"
    }
   },
   "cell_type": "code",
   "source": "my_numpy_array1 *5",
   "id": "2bb10323b66d17a7",
   "outputs": [
    {
     "data": {
      "text/plain": [
       "array([ 5, 10])"
      ]
     },
     "execution_count": 28,
     "metadata": {},
     "output_type": "execute_result"
    }
   ],
   "execution_count": 28
  },
  {
   "metadata": {
    "ExecuteTime": {
     "end_time": "2025-09-05T17:45:56.250312Z",
     "start_time": "2025-09-05T17:45:56.245201Z"
    }
   },
   "cell_type": "code",
   "source": "my_list1 *5",
   "id": "45f3d1166550a1de",
   "outputs": [
    {
     "data": {
      "text/plain": [
       "[1, 2, 1, 2, 1, 2, 1, 2, 1, 2]"
      ]
     },
     "execution_count": 29,
     "metadata": {},
     "output_type": "execute_result"
    }
   ],
   "execution_count": 29
  },
  {
   "metadata": {
    "ExecuteTime": {
     "end_time": "2025-09-05T17:46:26.546681Z",
     "start_time": "2025-09-05T17:46:26.543670Z"
    }
   },
   "cell_type": "code",
   "source": "other_array = np.array([10,20,30,40])",
   "id": "f486f19863415e9c",
   "outputs": [],
   "execution_count": 30
  },
  {
   "metadata": {
    "ExecuteTime": {
     "end_time": "2025-09-05T17:46:49.112950Z",
     "start_time": "2025-09-05T17:46:49.108366Z"
    }
   },
   "cell_type": "code",
   "source": "print(other_array.max())",
   "id": "96411606bb0c16c5",
   "outputs": [
    {
     "name": "stdout",
     "output_type": "stream",
     "text": [
      "40\n"
     ]
    }
   ],
   "execution_count": 33
  },
  {
   "metadata": {
    "ExecuteTime": {
     "end_time": "2025-09-05T17:46:53.947122Z",
     "start_time": "2025-09-05T17:46:53.943570Z"
    }
   },
   "cell_type": "code",
   "source": "print(other_array.sum())",
   "id": "d0de193590c06bdd",
   "outputs": [
    {
     "name": "stdout",
     "output_type": "stream",
     "text": [
      "100\n"
     ]
    }
   ],
   "execution_count": 34
  },
  {
   "metadata": {
    "ExecuteTime": {
     "end_time": "2025-09-05T17:47:02.430526Z",
     "start_time": "2025-09-05T17:47:02.422818Z"
    }
   },
   "cell_type": "code",
   "source": "my_numpy_array1",
   "id": "7bd8ab1d387ccac",
   "outputs": [
    {
     "data": {
      "text/plain": [
       "array([1, 2])"
      ]
     },
     "execution_count": 35,
     "metadata": {},
     "output_type": "execute_result"
    }
   ],
   "execution_count": 35
  },
  {
   "metadata": {
    "ExecuteTime": {
     "end_time": "2025-09-05T17:47:06.101520Z",
     "start_time": "2025-09-05T17:47:06.094870Z"
    }
   },
   "cell_type": "code",
   "source": "other_array",
   "id": "8b6f6829742e6d26",
   "outputs": [
    {
     "data": {
      "text/plain": [
       "array([10, 20, 30, 40])"
      ]
     },
     "execution_count": 36,
     "metadata": {},
     "output_type": "execute_result"
    }
   ],
   "execution_count": 36
  },
  {
   "metadata": {
    "ExecuteTime": {
     "end_time": "2025-09-05T17:50:54.074329Z",
     "start_time": "2025-09-05T17:50:54.071430Z"
    }
   },
   "cell_type": "code",
   "source": "#my_numpy_array1 + other_array #same number array!",
   "id": "dc19bcc866f2566",
   "outputs": [],
   "execution_count": 39
  },
  {
   "metadata": {
    "ExecuteTime": {
     "end_time": "2025-09-05T17:51:04.902294Z",
     "start_time": "2025-09-05T17:51:04.899200Z"
    }
   },
   "cell_type": "code",
   "source": "# arange & indexing",
   "id": "aeb5f1cee6ab216b",
   "outputs": [],
   "execution_count": 40
  },
  {
   "metadata": {
    "ExecuteTime": {
     "end_time": "2025-09-05T17:51:16.003557Z",
     "start_time": "2025-09-05T17:51:15.998931Z"
    }
   },
   "cell_type": "code",
   "source": "list(range(0,10))",
   "id": "16f76e33fded6f29",
   "outputs": [
    {
     "data": {
      "text/plain": [
       "[0, 1, 2, 3, 4, 5, 6, 7, 8, 9]"
      ]
     },
     "execution_count": 41,
     "metadata": {},
     "output_type": "execute_result"
    }
   ],
   "execution_count": 41
  },
  {
   "metadata": {
    "ExecuteTime": {
     "end_time": "2025-09-05T17:51:25.241366Z",
     "start_time": "2025-09-05T17:51:25.132677Z"
    }
   },
   "cell_type": "code",
   "source": "np.arange(0,10)",
   "id": "5f97b44f9c8769d4",
   "outputs": [
    {
     "data": {
      "text/plain": [
       "array([0, 1, 2, 3, 4, 5, 6, 7, 8, 9])"
      ]
     },
     "execution_count": 42,
     "metadata": {},
     "output_type": "execute_result"
    }
   ],
   "execution_count": 42
  },
  {
   "metadata": {
    "ExecuteTime": {
     "end_time": "2025-09-05T17:51:34.476694Z",
     "start_time": "2025-09-05T17:51:34.471811Z"
    }
   },
   "cell_type": "code",
   "source": "np.arange(0,20,2)",
   "id": "b8826de8fdba7e3b",
   "outputs": [
    {
     "data": {
      "text/plain": [
       "array([ 0,  2,  4,  6,  8, 10, 12, 14, 16, 18])"
      ]
     },
     "execution_count": 43,
     "metadata": {},
     "output_type": "execute_result"
    }
   ],
   "execution_count": 43
  },
  {
   "metadata": {
    "ExecuteTime": {
     "end_time": "2025-09-05T17:51:48.006368Z",
     "start_time": "2025-09-05T17:51:48.002842Z"
    }
   },
   "cell_type": "code",
   "source": "np_array = np.arange(0,10)",
   "id": "bc3182af842f89e7",
   "outputs": [],
   "execution_count": 44
  },
  {
   "metadata": {
    "ExecuteTime": {
     "end_time": "2025-09-05T17:51:56.110582Z",
     "start_time": "2025-09-05T17:51:56.103853Z"
    }
   },
   "cell_type": "code",
   "source": "np_array",
   "id": "e84d8ff241fb5178",
   "outputs": [
    {
     "data": {
      "text/plain": [
       "array([0, 1, 2, 3, 4, 5, 6, 7, 8, 9])"
      ]
     },
     "execution_count": 45,
     "metadata": {},
     "output_type": "execute_result"
    }
   ],
   "execution_count": 45
  },
  {
   "metadata": {
    "ExecuteTime": {
     "end_time": "2025-09-05T17:52:05.298898Z",
     "start_time": "2025-09-05T17:52:05.292662Z"
    }
   },
   "cell_type": "code",
   "source": "np_array[0]",
   "id": "23b7ff4a08f84998",
   "outputs": [
    {
     "data": {
      "text/plain": [
       "np.int64(0)"
      ]
     },
     "execution_count": 46,
     "metadata": {},
     "output_type": "execute_result"
    }
   ],
   "execution_count": 46
  },
  {
   "metadata": {
    "ExecuteTime": {
     "end_time": "2025-09-05T17:52:13.182855Z",
     "start_time": "2025-09-05T17:52:13.141236Z"
    }
   },
   "cell_type": "code",
   "source": "np_array[-1]",
   "id": "f8bf296791918541",
   "outputs": [
    {
     "data": {
      "text/plain": [
       "np.int64(9)"
      ]
     },
     "execution_count": 47,
     "metadata": {},
     "output_type": "execute_result"
    }
   ],
   "execution_count": 47
  },
  {
   "metadata": {
    "ExecuteTime": {
     "end_time": "2025-09-05T17:52:22.854198Z",
     "start_time": "2025-09-05T17:52:22.844734Z"
    }
   },
   "cell_type": "code",
   "source": "np_array[1:4:]",
   "id": "6e3e84164e1af483",
   "outputs": [
    {
     "data": {
      "text/plain": [
       "array([1, 2, 3])"
      ]
     },
     "execution_count": 48,
     "metadata": {},
     "output_type": "execute_result"
    }
   ],
   "execution_count": 48
  },
  {
   "metadata": {
    "ExecuteTime": {
     "end_time": "2025-09-05T17:52:32.283881Z",
     "start_time": "2025-09-05T17:52:32.277109Z"
    }
   },
   "cell_type": "code",
   "source": "np_array[::-1]",
   "id": "9e7f4f0044688454",
   "outputs": [
    {
     "data": {
      "text/plain": [
       "array([9, 8, 7, 6, 5, 4, 3, 2, 1, 0])"
      ]
     },
     "execution_count": 49,
     "metadata": {},
     "output_type": "execute_result"
    }
   ],
   "execution_count": 49
  },
  {
   "metadata": {
    "ExecuteTime": {
     "end_time": "2025-09-05T17:52:43.900833Z",
     "start_time": "2025-09-05T17:52:43.894171Z"
    }
   },
   "cell_type": "code",
   "source": "np_array[2:6:2]",
   "id": "a09f191d907650dd",
   "outputs": [
    {
     "data": {
      "text/plain": [
       "array([2, 4])"
      ]
     },
     "execution_count": 50,
     "metadata": {},
     "output_type": "execute_result"
    }
   ],
   "execution_count": 50
  },
  {
   "metadata": {
    "ExecuteTime": {
     "end_time": "2025-09-05T17:53:03.345516Z",
     "start_time": "2025-09-05T17:53:03.341962Z"
    }
   },
   "cell_type": "code",
   "source": "# random",
   "id": "5cd50601ded349db",
   "outputs": [],
   "execution_count": 51
  },
  {
   "metadata": {
    "ExecuteTime": {
     "end_time": "2025-09-05T17:53:21.924644Z",
     "start_time": "2025-09-05T17:53:21.812172Z"
    }
   },
   "cell_type": "code",
   "source": "np.random.randn(4)",
   "id": "44d8097286f8db29",
   "outputs": [
    {
     "data": {
      "text/plain": [
       "array([-1.95966867, -0.20954108, -0.33899074,  0.44896796])"
      ]
     },
     "execution_count": 52,
     "metadata": {},
     "output_type": "execute_result"
    }
   ],
   "execution_count": 52
  },
  {
   "metadata": {
    "ExecuteTime": {
     "end_time": "2025-09-05T17:53:35.133735Z",
     "start_time": "2025-09-05T17:53:35.126835Z"
    }
   },
   "cell_type": "code",
   "source": "np.random.randn(4,4)",
   "id": "a9fc9dc796107774",
   "outputs": [
    {
     "data": {
      "text/plain": [
       "array([[ 1.00503687, -0.74046056,  1.01824829, -0.57891535],\n",
       "       [-0.16572519,  0.49621117, -0.70928595,  0.65702921],\n",
       "       [ 1.18506309, -2.08405472, -0.18243986,  0.57101174],\n",
       "       [-0.9749852 ,  0.84748521,  2.16524638,  0.68976727]])"
      ]
     },
     "execution_count": 53,
     "metadata": {},
     "output_type": "execute_result"
    }
   ],
   "execution_count": 53
  },
  {
   "metadata": {
    "ExecuteTime": {
     "end_time": "2025-09-05T17:54:17.952914Z",
     "start_time": "2025-09-05T17:54:17.947911Z"
    }
   },
   "cell_type": "code",
   "source": "np.random.randint(1,300,5)",
   "id": "d36aa9774f4ba599",
   "outputs": [
    {
     "data": {
      "text/plain": [
       "array([258,  54, 252,   4,  53], dtype=int32)"
      ]
     },
     "execution_count": 56,
     "metadata": {},
     "output_type": "execute_result"
    }
   ],
   "execution_count": 56
  }
 ],
 "metadata": {
  "kernelspec": {
   "display_name": "Python 3",
   "language": "python",
   "name": "python3"
  },
  "language_info": {
   "codemirror_mode": {
    "name": "ipython",
    "version": 2
   },
   "file_extension": ".py",
   "mimetype": "text/x-python",
   "name": "python",
   "nbconvert_exporter": "python",
   "pygments_lexer": "ipython2",
   "version": "2.7.6"
  }
 },
 "nbformat": 4,
 "nbformat_minor": 5
}
