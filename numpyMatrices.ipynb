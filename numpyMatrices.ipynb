{
 "cells": [
  {
   "cell_type": "code",
   "id": "initial_id",
   "metadata": {
    "collapsed": true,
    "ExecuteTime": {
     "end_time": "2025-09-05T17:56:09.294343Z",
     "start_time": "2025-09-05T17:56:09.121624Z"
    }
   },
   "source": "import numpy as np",
   "outputs": [],
   "execution_count": 1
  },
  {
   "metadata": {
    "ExecuteTime": {
     "end_time": "2025-09-05T17:56:27.007905Z",
     "start_time": "2025-09-05T17:56:27.004771Z"
    }
   },
   "cell_type": "code",
   "source": "my_matrix = [[5,10], [15,20]]",
   "id": "153303dfcd8c5c8b",
   "outputs": [],
   "execution_count": 2
  },
  {
   "metadata": {
    "ExecuteTime": {
     "end_time": "2025-09-05T17:56:35.957289Z",
     "start_time": "2025-09-05T17:56:35.946897Z"
    }
   },
   "cell_type": "code",
   "source": "my_matrix[0]",
   "id": "7859562dbc4b6137",
   "outputs": [
    {
     "data": {
      "text/plain": [
       "[5, 10]"
      ]
     },
     "execution_count": 3,
     "metadata": {},
     "output_type": "execute_result"
    }
   ],
   "execution_count": 3
  },
  {
   "metadata": {
    "ExecuteTime": {
     "end_time": "2025-09-05T17:56:40.684153Z",
     "start_time": "2025-09-05T17:56:40.679598Z"
    }
   },
   "cell_type": "code",
   "source": "my_matrix[1]",
   "id": "8f8d0e1c59a5ac92",
   "outputs": [
    {
     "data": {
      "text/plain": [
       "[15, 20]"
      ]
     },
     "execution_count": 4,
     "metadata": {},
     "output_type": "execute_result"
    }
   ],
   "execution_count": 4
  },
  {
   "metadata": {
    "ExecuteTime": {
     "end_time": "2025-09-05T17:56:47.530148Z",
     "start_time": "2025-09-05T17:56:47.523704Z"
    }
   },
   "cell_type": "code",
   "source": "my_matrix[0][0]",
   "id": "ca92880fd4486983",
   "outputs": [
    {
     "data": {
      "text/plain": [
       "5"
      ]
     },
     "execution_count": 5,
     "metadata": {},
     "output_type": "execute_result"
    }
   ],
   "execution_count": 5
  },
  {
   "metadata": {
    "ExecuteTime": {
     "end_time": "2025-09-05T17:58:50.329992Z",
     "start_time": "2025-09-05T17:58:50.325622Z"
    }
   },
   "cell_type": "code",
   "source": "numpy_matrix = np.array([[5,10], [15,20]])",
   "id": "ccebd3e08f13ee28",
   "outputs": [],
   "execution_count": 6
  },
  {
   "metadata": {
    "ExecuteTime": {
     "end_time": "2025-09-05T17:59:20.204828Z",
     "start_time": "2025-09-05T17:59:20.199888Z"
    }
   },
   "cell_type": "code",
   "source": "numpy_matrix",
   "id": "d30b8cde870a1d59",
   "outputs": [
    {
     "data": {
      "text/plain": [
       "array([[ 5, 10],\n",
       "       [15, 20]])"
      ]
     },
     "execution_count": 8,
     "metadata": {},
     "output_type": "execute_result"
    }
   ],
   "execution_count": 8
  },
  {
   "metadata": {
    "ExecuteTime": {
     "end_time": "2025-09-05T18:00:22.159778Z",
     "start_time": "2025-09-05T18:00:22.154663Z"
    }
   },
   "cell_type": "code",
   "source": "numpy_matrix.sum()",
   "id": "b905f80c786252c1",
   "outputs": [
    {
     "data": {
      "text/plain": [
       "np.int64(50)"
      ]
     },
     "execution_count": 9,
     "metadata": {},
     "output_type": "execute_result"
    }
   ],
   "execution_count": 9
  },
  {
   "metadata": {
    "ExecuteTime": {
     "end_time": "2025-09-05T18:00:51.129359Z",
     "start_time": "2025-09-05T18:00:51.123339Z"
    }
   },
   "cell_type": "code",
   "source": "np.ones((4,2))",
   "id": "9598a7afb14402c9",
   "outputs": [
    {
     "data": {
      "text/plain": [
       "array([[1., 1.],\n",
       "       [1., 1.],\n",
       "       [1., 1.],\n",
       "       [1., 1.]])"
      ]
     },
     "execution_count": 11,
     "metadata": {},
     "output_type": "execute_result"
    }
   ],
   "execution_count": 11
  },
  {
   "metadata": {
    "ExecuteTime": {
     "end_time": "2025-09-05T18:00:58.695706Z",
     "start_time": "2025-09-05T18:00:58.689649Z"
    }
   },
   "cell_type": "code",
   "source": "np.zeros((5,3))",
   "id": "322d3106ddb518f2",
   "outputs": [
    {
     "data": {
      "text/plain": [
       "array([[0., 0., 0.],\n",
       "       [0., 0., 0.],\n",
       "       [0., 0., 0.],\n",
       "       [0., 0., 0.],\n",
       "       [0., 0., 0.]])"
      ]
     },
     "execution_count": 12,
     "metadata": {},
     "output_type": "execute_result"
    }
   ],
   "execution_count": 12
  },
  {
   "metadata": {
    "ExecuteTime": {
     "end_time": "2025-09-05T18:01:10.212693Z",
     "start_time": "2025-09-05T18:01:10.206409Z"
    }
   },
   "cell_type": "code",
   "source": "np.zeros((3,5))",
   "id": "aa0738eea5c550bd",
   "outputs": [
    {
     "data": {
      "text/plain": [
       "array([[0., 0., 0., 0., 0.],\n",
       "       [0., 0., 0., 0., 0.],\n",
       "       [0., 0., 0., 0., 0.]])"
      ]
     },
     "execution_count": 13,
     "metadata": {},
     "output_type": "execute_result"
    }
   ],
   "execution_count": 13
  },
  {
   "metadata": {
    "ExecuteTime": {
     "end_time": "2025-09-05T18:01:21.698501Z",
     "start_time": "2025-09-05T18:01:21.498083Z"
    }
   },
   "cell_type": "code",
   "source": "np.random.random((3,2))",
   "id": "4302b33200387ec4",
   "outputs": [
    {
     "data": {
      "text/plain": [
       "array([[0.70303651, 0.2173007 ],\n",
       "       [0.9380222 , 0.0162981 ],\n",
       "       [0.18825076, 0.53989289]])"
      ]
     },
     "execution_count": 14,
     "metadata": {},
     "output_type": "execute_result"
    }
   ],
   "execution_count": 14
  },
  {
   "metadata": {
    "ExecuteTime": {
     "end_time": "2025-09-05T18:01:53.900553Z",
     "start_time": "2025-09-05T18:01:53.895581Z"
    }
   },
   "cell_type": "code",
   "source": "# matrix arithmetic",
   "id": "87381d8c5303774",
   "outputs": [],
   "execution_count": 15
  },
  {
   "metadata": {
    "ExecuteTime": {
     "end_time": "2025-09-05T18:02:44.564198Z",
     "start_time": "2025-09-05T18:02:44.559949Z"
    }
   },
   "cell_type": "code",
   "source": "first_array = np.array([[10,20],[30,40]])",
   "id": "84756e2b3bbc91ef",
   "outputs": [],
   "execution_count": 18
  },
  {
   "metadata": {
    "ExecuteTime": {
     "end_time": "2025-09-05T18:02:45.598662Z",
     "start_time": "2025-09-05T18:02:45.595436Z"
    }
   },
   "cell_type": "code",
   "source": "second_array = np.array([[5,15], [25,35]])",
   "id": "b1e1f1ad60ef52c0",
   "outputs": [],
   "execution_count": 19
  },
  {
   "metadata": {
    "ExecuteTime": {
     "end_time": "2025-09-05T18:03:01.666092Z",
     "start_time": "2025-09-05T18:03:01.660877Z"
    }
   },
   "cell_type": "code",
   "source": "first_array+second_array",
   "id": "6b8dfa2cc75a33bd",
   "outputs": [
    {
     "data": {
      "text/plain": [
       "array([[15, 35],\n",
       "       [55, 75]])"
      ]
     },
     "execution_count": 20,
     "metadata": {},
     "output_type": "execute_result"
    }
   ],
   "execution_count": 20
  },
  {
   "metadata": {
    "ExecuteTime": {
     "end_time": "2025-09-05T18:03:58.690439Z",
     "start_time": "2025-09-05T18:03:58.684307Z"
    }
   },
   "cell_type": "code",
   "source": "first_array",
   "id": "23655ab13f65eedb",
   "outputs": [
    {
     "data": {
      "text/plain": [
       "array([[10, 20],\n",
       "       [30, 40]])"
      ]
     },
     "execution_count": 21,
     "metadata": {},
     "output_type": "execute_result"
    }
   ],
   "execution_count": 21
  },
  {
   "metadata": {
    "ExecuteTime": {
     "end_time": "2025-09-05T18:04:12.345661Z",
     "start_time": "2025-09-05T18:04:12.342511Z"
    }
   },
   "cell_type": "code",
   "source": "third_array = np.array([[50,60]])",
   "id": "251f51078d68059f",
   "outputs": [],
   "execution_count": 22
  },
  {
   "metadata": {
    "ExecuteTime": {
     "end_time": "2025-09-05T18:04:16.867131Z",
     "start_time": "2025-09-05T18:04:16.855854Z"
    }
   },
   "cell_type": "code",
   "source": "third_array",
   "id": "23203e7c7916c8f5",
   "outputs": [
    {
     "data": {
      "text/plain": [
       "array([[50, 60]])"
      ]
     },
     "execution_count": 23,
     "metadata": {},
     "output_type": "execute_result"
    }
   ],
   "execution_count": 23
  },
  {
   "metadata": {
    "ExecuteTime": {
     "end_time": "2025-09-05T18:04:28.030505Z",
     "start_time": "2025-09-05T18:04:28.023909Z"
    }
   },
   "cell_type": "code",
   "source": "first_array+third_array",
   "id": "6e7408ad31ddafbd",
   "outputs": [
    {
     "data": {
      "text/plain": [
       "array([[ 60,  80],\n",
       "       [ 80, 100]])"
      ]
     },
     "execution_count": 24,
     "metadata": {},
     "output_type": "execute_result"
    }
   ],
   "execution_count": 24
  },
  {
   "metadata": {
    "ExecuteTime": {
     "end_time": "2025-09-05T18:05:08.537239Z",
     "start_time": "2025-09-05T18:05:08.534164Z"
    }
   },
   "cell_type": "code",
   "source": "fourth_array = np.array([[10,20,30,40,50]])",
   "id": "4f5b03de9dba124a",
   "outputs": [],
   "execution_count": 25
  },
  {
   "metadata": {
    "ExecuteTime": {
     "end_time": "2025-09-05T18:05:21.195112Z",
     "start_time": "2025-09-05T18:05:21.191231Z"
    }
   },
   "cell_type": "code",
   "source": "# first_array+fourth_array",
   "id": "6e61784359fd6caa",
   "outputs": [],
   "execution_count": 27
  },
  {
   "metadata": {
    "ExecuteTime": {
     "end_time": "2025-09-05T18:05:28.133629Z",
     "start_time": "2025-09-05T18:05:28.128345Z"
    }
   },
   "cell_type": "code",
   "source": "first_array *2",
   "id": "c081442a1270528f",
   "outputs": [
    {
     "data": {
      "text/plain": [
       "array([[20, 40],\n",
       "       [60, 80]])"
      ]
     },
     "execution_count": 28,
     "metadata": {},
     "output_type": "execute_result"
    }
   ],
   "execution_count": 28
  },
  {
   "metadata": {
    "ExecuteTime": {
     "end_time": "2025-09-05T18:05:32.074888Z",
     "start_time": "2025-09-05T18:05:32.066002Z"
    }
   },
   "cell_type": "code",
   "source": "first_array / 4",
   "id": "3cf3e6e930a22695",
   "outputs": [
    {
     "data": {
      "text/plain": [
       "array([[ 2.5,  5. ],\n",
       "       [ 7.5, 10. ]])"
      ]
     },
     "execution_count": 29,
     "metadata": {},
     "output_type": "execute_result"
    }
   ],
   "execution_count": 29
  },
  {
   "metadata": {
    "ExecuteTime": {
     "end_time": "2025-09-05T18:06:02.890291Z",
     "start_time": "2025-09-05T18:06:02.886671Z"
    }
   },
   "cell_type": "code",
   "source": "third_array = np.array([[10],[20]])",
   "id": "96bf25b89f88f778",
   "outputs": [],
   "execution_count": 30
  },
  {
   "metadata": {
    "ExecuteTime": {
     "end_time": "2025-09-05T18:06:06.396680Z",
     "start_time": "2025-09-05T18:06:06.389550Z"
    }
   },
   "cell_type": "code",
   "source": "third_array",
   "id": "fb31c4d2c5e69ca1",
   "outputs": [
    {
     "data": {
      "text/plain": [
       "array([[10],\n",
       "       [20]])"
      ]
     },
     "execution_count": 31,
     "metadata": {},
     "output_type": "execute_result"
    }
   ],
   "execution_count": 31
  },
  {
   "metadata": {
    "ExecuteTime": {
     "end_time": "2025-09-05T18:06:16.560181Z",
     "start_time": "2025-09-05T18:06:16.552770Z"
    }
   },
   "cell_type": "code",
   "source": "third_array.shape",
   "id": "6f39a55d6929aef1",
   "outputs": [
    {
     "data": {
      "text/plain": [
       "(2, 1)"
      ]
     },
     "execution_count": 32,
     "metadata": {},
     "output_type": "execute_result"
    }
   ],
   "execution_count": 32
  },
  {
   "metadata": {
    "ExecuteTime": {
     "end_time": "2025-09-05T18:06:23.444480Z",
     "start_time": "2025-09-05T18:06:23.438621Z"
    }
   },
   "cell_type": "code",
   "source": "first_array.shape",
   "id": "8308438827cea462",
   "outputs": [
    {
     "data": {
      "text/plain": [
       "(2, 2)"
      ]
     },
     "execution_count": 33,
     "metadata": {},
     "output_type": "execute_result"
    }
   ],
   "execution_count": 33
  },
  {
   "metadata": {
    "ExecuteTime": {
     "end_time": "2025-09-05T18:06:33.755521Z",
     "start_time": "2025-09-05T18:06:33.750877Z"
    }
   },
   "cell_type": "code",
   "source": "first_array+third_array",
   "id": "fee2c960ac88dd4e",
   "outputs": [
    {
     "data": {
      "text/plain": [
       "array([[20, 30],\n",
       "       [50, 60]])"
      ]
     },
     "execution_count": 34,
     "metadata": {},
     "output_type": "execute_result"
    }
   ],
   "execution_count": 34
  },
  {
   "metadata": {
    "ExecuteTime": {
     "end_time": "2025-09-05T18:08:17.556628Z",
     "start_time": "2025-09-05T18:08:17.552957Z"
    }
   },
   "cell_type": "code",
   "source": "# matrix_multp",
   "id": "21710354bf280160",
   "outputs": [],
   "execution_count": 35
  },
  {
   "metadata": {
    "ExecuteTime": {
     "end_time": "2025-09-05T18:08:20.813779Z",
     "start_time": "2025-09-05T18:08:20.807609Z"
    }
   },
   "cell_type": "code",
   "source": "first_array",
   "id": "46bf0cf56278f353",
   "outputs": [
    {
     "data": {
      "text/plain": [
       "array([[10, 20],\n",
       "       [30, 40]])"
      ]
     },
     "execution_count": 36,
     "metadata": {},
     "output_type": "execute_result"
    }
   ],
   "execution_count": 36
  },
  {
   "metadata": {
    "ExecuteTime": {
     "end_time": "2025-09-05T18:08:23.062315Z",
     "start_time": "2025-09-05T18:08:23.055243Z"
    }
   },
   "cell_type": "code",
   "source": "second_array",
   "id": "7ad5bf213b3271f7",
   "outputs": [
    {
     "data": {
      "text/plain": [
       "array([[ 5, 15],\n",
       "       [25, 35]])"
      ]
     },
     "execution_count": 37,
     "metadata": {},
     "output_type": "execute_result"
    }
   ],
   "execution_count": 37
  },
  {
   "metadata": {
    "ExecuteTime": {
     "end_time": "2025-09-05T18:08:28.873121Z",
     "start_time": "2025-09-05T18:08:28.867171Z"
    }
   },
   "cell_type": "code",
   "source": "first_array*second_array",
   "id": "14d4a9e34873d33e",
   "outputs": [
    {
     "data": {
      "text/plain": [
       "array([[  50,  300],\n",
       "       [ 750, 1400]])"
      ]
     },
     "execution_count": 38,
     "metadata": {},
     "output_type": "execute_result"
    }
   ],
   "execution_count": 38
  },
  {
   "metadata": {
    "ExecuteTime": {
     "end_time": "2025-09-05T18:14:14.733076Z",
     "start_time": "2025-09-05T18:14:14.729358Z"
    }
   },
   "cell_type": "code",
   "source": "first_matrix = np.array([[10,20,30]])",
   "id": "567d7d9d082825e9",
   "outputs": [],
   "execution_count": 39
  },
  {
   "metadata": {
    "ExecuteTime": {
     "end_time": "2025-09-05T18:14:20.562664Z",
     "start_time": "2025-09-05T18:14:20.557200Z"
    }
   },
   "cell_type": "code",
   "source": "first_matrix",
   "id": "ff81cac5add3e372",
   "outputs": [
    {
     "data": {
      "text/plain": [
       "array([[10, 20, 30]])"
      ]
     },
     "execution_count": 40,
     "metadata": {},
     "output_type": "execute_result"
    }
   ],
   "execution_count": 40
  },
  {
   "metadata": {
    "ExecuteTime": {
     "end_time": "2025-09-05T18:14:27.120160Z",
     "start_time": "2025-09-05T18:14:27.113607Z"
    }
   },
   "cell_type": "code",
   "source": "first_matrix.shape",
   "id": "d7a81238f86a7fb3",
   "outputs": [
    {
     "data": {
      "text/plain": [
       "(1, 3)"
      ]
     },
     "execution_count": 41,
     "metadata": {},
     "output_type": "execute_result"
    }
   ],
   "execution_count": 41
  },
  {
   "metadata": {
    "ExecuteTime": {
     "end_time": "2025-09-05T18:15:01.236338Z",
     "start_time": "2025-09-05T18:15:01.232629Z"
    }
   },
   "cell_type": "code",
   "source": "second_matrix = np.array([[2,3],[2,3],[2,3]])",
   "id": "e1a22ce9d71e8a65",
   "outputs": [],
   "execution_count": 43
  },
  {
   "metadata": {
    "ExecuteTime": {
     "end_time": "2025-09-05T18:15:04.859485Z",
     "start_time": "2025-09-05T18:15:04.853357Z"
    }
   },
   "cell_type": "code",
   "source": "second_matrix",
   "id": "f2a3d9802781e68d",
   "outputs": [
    {
     "data": {
      "text/plain": [
       "array([[2, 3],\n",
       "       [2, 3],\n",
       "       [2, 3]])"
      ]
     },
     "execution_count": 44,
     "metadata": {},
     "output_type": "execute_result"
    }
   ],
   "execution_count": 44
  },
  {
   "metadata": {
    "ExecuteTime": {
     "end_time": "2025-09-05T18:15:10.276226Z",
     "start_time": "2025-09-05T18:15:10.271981Z"
    }
   },
   "cell_type": "code",
   "source": "second_matrix.shape",
   "id": "aeac7b500054d881",
   "outputs": [
    {
     "data": {
      "text/plain": [
       "(3, 2)"
      ]
     },
     "execution_count": 45,
     "metadata": {},
     "output_type": "execute_result"
    }
   ],
   "execution_count": 45
  },
  {
   "metadata": {
    "ExecuteTime": {
     "end_time": "2025-09-05T18:15:28.376432Z",
     "start_time": "2025-09-05T18:15:28.373400Z"
    }
   },
   "cell_type": "code",
   "source": "#first_matrix*second_matrix",
   "id": "1e2f48958a828ca0",
   "outputs": [],
   "execution_count": 47
  },
  {
   "metadata": {
    "ExecuteTime": {
     "end_time": "2025-09-05T18:15:52.056840Z",
     "start_time": "2025-09-05T18:15:52.051912Z"
    }
   },
   "cell_type": "code",
   "source": "result_matrix = first_matrix.dot(second_matrix)",
   "id": "73da9fb73c10bb4d",
   "outputs": [],
   "execution_count": 49
  },
  {
   "metadata": {
    "ExecuteTime": {
     "end_time": "2025-09-05T18:15:54.941227Z",
     "start_time": "2025-09-05T18:15:54.933292Z"
    }
   },
   "cell_type": "code",
   "source": "result_matrix",
   "id": "adab3016c0e4d0b7",
   "outputs": [
    {
     "data": {
      "text/plain": [
       "array([[120, 180]])"
      ]
     },
     "execution_count": 50,
     "metadata": {},
     "output_type": "execute_result"
    }
   ],
   "execution_count": 50
  },
  {
   "metadata": {
    "ExecuteTime": {
     "end_time": "2025-09-05T18:16:07.128879Z",
     "start_time": "2025-09-05T18:16:07.121873Z"
    }
   },
   "cell_type": "code",
   "source": "result_matrix.shape",
   "id": "cbafde9c2382e1f6",
   "outputs": [
    {
     "data": {
      "text/plain": [
       "(1, 2)"
      ]
     },
     "execution_count": 51,
     "metadata": {},
     "output_type": "execute_result"
    }
   ],
   "execution_count": 51
  }
 ],
 "metadata": {
  "kernelspec": {
   "display_name": "Python 3",
   "language": "python",
   "name": "python3"
  },
  "language_info": {
   "codemirror_mode": {
    "name": "ipython",
    "version": 2
   },
   "file_extension": ".py",
   "mimetype": "text/x-python",
   "name": "python",
   "nbconvert_exporter": "python",
   "pygments_lexer": "ipython2",
   "version": "2.7.6"
  }
 },
 "nbformat": 4,
 "nbformat_minor": 5
}
